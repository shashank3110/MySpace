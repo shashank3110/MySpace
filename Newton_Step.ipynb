{
 "cells": [
  {
   "cell_type": "code",
   "execution_count": 1,
   "metadata": {},
   "outputs": [
    {
     "data": {
      "text/plain": [
       "array([1., 1.])"
      ]
     },
     "execution_count": 1,
     "metadata": {},
     "output_type": "execute_result"
    }
   ],
   "source": [
    "import numpy as np\n",
    "import subprocess\n",
    "c=10\n",
    "n=2\n",
    "w=0.01\n",
    "w1=1.2\n",
    "w2=0.5\n",
    "alpha=1\n",
    "theta=0.001\n",
    "delmax=np.inf\n",
    "\n",
    "x=np.ones(n)\n",
    "\n",
    "x\n"
   ]
  },
  {
   "cell_type": "code",
   "execution_count": 2,
   "metadata": {},
   "outputs": [],
   "source": [
    "\n",
    "def compute_C(n,c):\n",
    "    C=np.zeros([n,n])\n",
    "    for i in range(n):\n",
    "        C[i][i]=(pow(c,(i)/(n-1)))\n",
    "    return C"
   ]
  },
  {
   "cell_type": "code",
   "execution_count": 3,
   "metadata": {},
   "outputs": [],
   "source": [
    "def fSq(x):\n",
    "    \n",
    "    C=compute_C(n,c)\n",
    "    f=np.dot(np.transpose(x),C)\n",
    "    fsq=np.dot(f,x)\n",
    "    fsq\n",
    "    return fsq"
   ]
  },
  {
   "cell_type": "code",
   "execution_count": 4,
   "metadata": {},
   "outputs": [],
   "source": [
    "def fHole(x):\n",
    "    fhole=1-np.exp(-fSq(x))\n",
    "    return fhole"
   ]
  },
  {
   "cell_type": "code",
   "execution_count": 5,
   "metadata": {},
   "outputs": [
    {
     "name": "stdout",
     "output_type": "stream",
     "text": [
      "11.0\n",
      "0.9999832982992097\n"
     ]
    }
   ],
   "source": [
    "print(fSq(x))\n",
    "print(fHole(x))"
   ]
  },
  {
   "cell_type": "code",
   "execution_count": 6,
   "metadata": {},
   "outputs": [],
   "source": [
    "C=compute_C(n,c)\n",
    "\n",
    "def gradient(x):\n",
    "    val=np.dot(np.transpose(C),x)+np.dot(C,x)\n",
    "    dict={'fSq': val,'fHole':np.exp(-fSq(x))*val}\n",
    "    return dict\n",
    "    \n",
    "    "
   ]
  },
  {
   "cell_type": "code",
   "execution_count": 7,
   "metadata": {},
   "outputs": [
    {
     "data": {
      "text/plain": [
       "<function __main__.gradient(x)>"
      ]
     },
     "execution_count": 7,
     "metadata": {},
     "output_type": "execute_result"
    }
   ],
   "source": [
    "gradient"
   ]
  },
  {
   "cell_type": "code",
   "execution_count": 8,
   "metadata": {},
   "outputs": [],
   "source": [
    "def compute_grad_descent(x1,func):\n",
    "    grad=gradient(x1)\n",
    "    grad=grad[func.__name__]\n",
    "    delta=-(grad/np.linalg.norm(grad))  \n",
    "    Cinv=np.linalg.inv(C)\n",
    "    delta=np.dot(Cinv,delta)\n",
    "    print(delta)\n",
    "    alpha=1\n",
    "    theta=10\n",
    "    print(w)\n",
    "    i=0\n",
    "    \n",
    "    with open('data1.dat','w') as file:\n",
    "        while np.linalg.norm(alpha*delta) <theta :\n",
    "            st=''\n",
    "            grad=gradient(x1)\n",
    "            grad=grad[func.__name__]\n",
    "            delta=-(grad/np.linalg.norm(grad))  # generally we don not normalize in Newton step but here the hessian is not positive definite hence norm \n",
    "            Cinv=np.linalg.inv(C)\n",
    "            delta=np.dot(Cinv,delta)\n",
    "            while func(x1+alpha*delta) > func(x1) +(w*(np.dot(np.transpose(grad),alpha*delta))) :\n",
    "\n",
    "                    alpha=w2*alpha\n",
    "            for val in x1:\n",
    "                \n",
    "                st=st+str(val)+\" \"\n",
    "         \n",
    "                \n",
    "            st=st+str(func(x1))+\" \"\n",
    "            st=st+'\\n'\n",
    "            file.write(st)\n",
    "            \n",
    "            x1=x1+alpha*delta  \n",
    "            \n",
    "            alpha=min(w1*alpha,delmax)\n",
    "            i=i+1\n",
    "            if i==10:\n",
    "                break\n",
    "            \n",
    "\n",
    "    return x1,alpha,delta\n"
   ]
  },
  {
   "cell_type": "code",
   "execution_count": 9,
   "metadata": {},
   "outputs": [],
   "source": [
    "#compute_grad_descent(x,fSq)"
   ]
  },
  {
   "cell_type": "code",
   "execution_count": 10,
   "metadata": {},
   "outputs": [
    {
     "name": "stdout",
     "output_type": "stream",
     "text": [
      "[-0.09950372 -0.09950372]\n",
      "0.01\n"
     ]
    },
    {
     "data": {
      "text/plain": [
       "(array([0.00183407, 0.00183407]),\n",
       " 0.04837294079999999,\n",
       " array([0.09950372, 0.09950372]))"
      ]
     },
     "execution_count": 10,
     "metadata": {},
     "output_type": "execute_result"
    }
   ],
   "source": [
    "compute_grad_descent(x,fHole)"
   ]
  },
  {
   "cell_type": "code",
   "execution_count": 11,
   "metadata": {},
   "outputs": [],
   "source": [
    "plot = subprocess.Popen(['gnuplot'], stdin=subprocess.PIPE)"
   ]
  },
  {
   "cell_type": "code",
   "execution_count": 12,
   "metadata": {},
   "outputs": [
    {
     "data": {
      "text/plain": [
       "(None, None)"
      ]
     },
     "execution_count": 12,
     "metadata": {},
     "output_type": "execute_result"
    }
   ],
   "source": [
    "\n",
    "plot.communicate(b'''\n",
    "set isosamples 50, 50\n",
    "set contour\n",
    "f(x,y) = x*x+10*y*y\n",
    "#f(x,y) = 1 - exp(-x*x-10*y*y)\n",
    "splot [-1:1][-1:1] f(x,y)\n",
    "pause 2\n",
    "unset contour\n",
    "splot [-3:3][-3:3] f(x,y), 'data1.dat' with lines lt rgb \"#00FF00\"\n",
    "pause 50\n",
    "''')"
   ]
  },
  {
   "cell_type": "code",
   "execution_count": null,
   "metadata": {},
   "outputs": [],
   "source": []
  }
 ],
 "metadata": {
  "kernelspec": {
   "display_name": "Python 3",
   "language": "python",
   "name": "python3"
  },
  "language_info": {
   "codemirror_mode": {
    "name": "ipython",
    "version": 3
   },
   "file_extension": ".py",
   "mimetype": "text/x-python",
   "name": "python",
   "nbconvert_exporter": "python",
   "pygments_lexer": "ipython3",
   "version": "3.6.7"
  }
 },
 "nbformat": 4,
 "nbformat_minor": 2
}

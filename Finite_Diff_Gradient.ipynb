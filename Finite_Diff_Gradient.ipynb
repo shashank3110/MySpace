{
  "nbformat": 4,
  "nbformat_minor": 0,
  "metadata": {
    "colab": {
      "name": "Finite_Diff_Gradient.ipynb",
      "version": "0.3.2",
      "provenance": [],
      "collapsed_sections": [],
      "include_colab_link": true
    },
    "kernelspec": {
      "name": "python3",
      "display_name": "Python 3"
    }
  },
  "cells": [
    {
      "cell_type": "markdown",
      "metadata": {
        "id": "view-in-github",
        "colab_type": "text"
      },
      "source": [
        "<a href=\"https://colab.research.google.com/github/shashank3110/MySpace/blob/master/Finite_Diff_Gradient.ipynb\" target=\"_parent\"><img src=\"https://colab.research.google.com/assets/colab-badge.svg\" alt=\"Open In Colab\"/></a>"
      ]
    },
    {
      "metadata": {
        "id": "brmWkcyCRssY",
        "colab_type": "code",
        "colab": {}
      },
      "cell_type": "code",
      "source": [
        "import numpy as np\n"
      ],
      "execution_count": 0,
      "outputs": []
    },
    {
      "metadata": {
        "id": "gG7pQlMURxUK",
        "colab_type": "code",
        "colab": {}
      },
      "cell_type": "code",
      "source": [
        "def initialise(d,n):\n",
        "  J=np.empty((n,d))\n",
        "  x=np.random.rand(n,1)\n",
        "  epsilon=10**(-6)\n",
        "  print(epsilon)\n",
        "  return J,x,epsilon"
      ],
      "execution_count": 0,
      "outputs": []
    },
    {
      "metadata": {
        "id": "qa_H4ZnTTBly",
        "colab_type": "code",
        "colab": {}
      },
      "cell_type": "code",
      "source": [
        "def compute(d,n,func):\n",
        "  \n",
        "  J,x,epsilon=initialise(d,n)\n",
        "  #print(x.shape)\n",
        "  #print(x)\n",
        "  #J=np.matrix(J)\n",
        "  basis=np.eye(n)\n",
        "  #val=np.empty((10,1))\n",
        "  \n",
        "  for i in range(n):\n",
        "    \n",
        "    e=basis[i]\n",
        "    \n",
        "    e=e.reshape(n,1)\n",
        "\n",
        "    val=(func(np.add(x,epsilon*e))-func(np.add(x,(-1)*epsilon*e)))/(2*epsilon)\n",
        "    #print(val.shape)\n",
        "   \n",
        "    J[i]=np.transpose(val)\n",
        "  \n",
        "  print(J)\n",
        "  J=np.transpose(J)\n",
        "  \n",
        "  print(J)\n",
        "  \n",
        "  J=J.reshape(d,n)\n",
        "  print(J)\n",
        "  df=get_gradient(func,x)\n",
        "  print(df.shape)\n",
        "  #df=df.reshape(10,5)\n",
        "\n",
        "  norm_val=np.linalg.norm((J-df),np.inf)\n",
        "  \n",
        "  threshold=10**(-4)\n",
        "  \n",
        "  if norm_val <  threshold:\n",
        "    return True\n",
        "  else:\n",
        "    return False"
      ],
      "execution_count": 0,
      "outputs": []
    },
    {
      "metadata": {
        "id": "r3sWCuj4V9lc",
        "colab_type": "code",
        "colab": {}
      },
      "cell_type": "code",
      "source": [
        "#A=np.random.rand(m,n)\n",
        "def function1(x):\n",
        "  #print(x.shape)\n",
        "  val=np.matmul(A,x)\n",
        " # print(\"shape of A=\".format(val.shape))\n",
        "  return val\n",
        "\n",
        "def function2(x):\n",
        "  xt=np.transpose(x)\n",
        "  return np.matmul(xt,x)\n",
        "\n",
        "def get_gradient(f,x):\n",
        "  print(type(A))\n",
        "  \n",
        "  if f.__name__=='function1':\n",
        "    return np.matrix.reshape(A,(10,5))\n",
        "  \n",
        "  elif f.__name__=='function2':\n",
        "    xt=np.transpose(x)\n",
        "    return 2*xt\n",
        "  \n",
        "  else :\n",
        "    return 0"
      ],
      "execution_count": 0,
      "outputs": []
    },
    {
      "metadata": {
        "id": "WipkAjd3bA52",
        "colab_type": "code",
        "colab": {
          "base_uri": "https://localhost:8080/",
          "height": 69
        },
        "outputId": "1c961b4a-79b2-4ccc-85fd-7f2b318fa084"
      },
      "cell_type": "code",
      "source": [
        "m=10\n",
        "n=5\n",
        "d=m\n",
        "\n",
        "A=np.matrix(np.random.rand(m,n))\n",
        "print(\"mat A\")\n",
        "print(type(A))\n",
        "print(A.shape)\n",
        "\n"
      ],
      "execution_count": 12,
      "outputs": [
        {
          "output_type": "stream",
          "text": [
            "mat A\n",
            "<class 'numpy.matrixlib.defmatrix.matrix'>\n",
            "(10, 5)\n"
          ],
          "name": "stdout"
        }
      ]
    },
    {
      "metadata": {
        "id": "hnyRKn8WGVDD",
        "colab_type": "code",
        "colab": {
          "base_uri": "https://localhost:8080/",
          "height": 607
        },
        "outputId": "485f8108-b0ce-495a-aaed-3164f5cd3258"
      },
      "cell_type": "code",
      "source": [
        "compute(d,n,function1)"
      ],
      "execution_count": 13,
      "outputs": [
        {
          "output_type": "stream",
          "text": [
            "1e-06\n",
            "[[0.06612346 0.78726661 0.00356659 0.24365105 0.11657786 0.33370282\n",
            "  0.98798964 0.55346223 0.00238317 0.11535091]\n",
            " [0.4891189  0.79802822 0.61369785 0.23075206 0.23224981 0.75018996\n",
            "  0.77895159 0.7828049  0.68753317 0.99987758]\n",
            " [0.41949626 0.44243645 0.53103234 0.74682822 0.65907388 0.85124023\n",
            "  0.0476803  0.41469827 0.96054522 0.46862742]\n",
            " [0.47835345 0.42680657 0.34645348 0.74325949 0.13397028 0.2241798\n",
            "  0.03572105 0.36973261 0.01220818 0.32318436]\n",
            " [0.14141712 0.06422597 0.84117192 0.48712418 0.98253248 0.54255502\n",
            "  0.3569694  0.20219924 0.23523355 0.31309076]]\n",
            "[[0.06612346 0.4891189  0.41949626 0.47835345 0.14141712]\n",
            " [0.78726661 0.79802822 0.44243645 0.42680657 0.06422597]\n",
            " [0.00356659 0.61369785 0.53103234 0.34645348 0.84117192]\n",
            " [0.24365105 0.23075206 0.74682822 0.74325949 0.48712418]\n",
            " [0.11657786 0.23224981 0.65907388 0.13397028 0.98253248]\n",
            " [0.33370282 0.75018996 0.85124023 0.2241798  0.54255502]\n",
            " [0.98798964 0.77895159 0.0476803  0.03572105 0.3569694 ]\n",
            " [0.55346223 0.7828049  0.41469827 0.36973261 0.20219924]\n",
            " [0.00238317 0.68753317 0.96054522 0.01220818 0.23523355]\n",
            " [0.11535091 0.99987758 0.46862742 0.32318436 0.31309076]]\n",
            "[[0.06612346 0.4891189  0.41949626 0.47835345 0.14141712]\n",
            " [0.78726661 0.79802822 0.44243645 0.42680657 0.06422597]\n",
            " [0.00356659 0.61369785 0.53103234 0.34645348 0.84117192]\n",
            " [0.24365105 0.23075206 0.74682822 0.74325949 0.48712418]\n",
            " [0.11657786 0.23224981 0.65907388 0.13397028 0.98253248]\n",
            " [0.33370282 0.75018996 0.85124023 0.2241798  0.54255502]\n",
            " [0.98798964 0.77895159 0.0476803  0.03572105 0.3569694 ]\n",
            " [0.55346223 0.7828049  0.41469827 0.36973261 0.20219924]\n",
            " [0.00238317 0.68753317 0.96054522 0.01220818 0.23523355]\n",
            " [0.11535091 0.99987758 0.46862742 0.32318436 0.31309076]]\n",
            "<class 'numpy.matrixlib.defmatrix.matrix'>\n",
            "(10, 5)\n"
          ],
          "name": "stdout"
        },
        {
          "output_type": "execute_result",
          "data": {
            "text/plain": [
              "True"
            ]
          },
          "metadata": {
            "tags": []
          },
          "execution_count": 13
        }
      ]
    },
    {
      "metadata": {
        "id": "O22cBZ0ZGXDu",
        "colab_type": "code",
        "colab": {
          "base_uri": "https://localhost:8080/",
          "height": 607
        },
        "outputId": "0b4621e1-8e0a-4092-9929-b6fbd31ad2d8"
      },
      "cell_type": "code",
      "source": [
        "compute(d,n,function2)"
      ],
      "execution_count": 14,
      "outputs": [
        {
          "output_type": "stream",
          "text": [
            "1e-06\n",
            "[[0.66946169 0.66946169 0.66946169 0.66946169 0.66946169 0.66946169\n",
            "  0.66946169 0.66946169 0.66946169 0.66946169]\n",
            " [1.35997994 1.35997994 1.35997994 1.35997994 1.35997994 1.35997994\n",
            "  1.35997994 1.35997994 1.35997994 1.35997994]\n",
            " [0.41706638 0.41706638 0.41706638 0.41706638 0.41706638 0.41706638\n",
            "  0.41706638 0.41706638 0.41706638 0.41706638]\n",
            " [1.20769413 1.20769413 1.20769413 1.20769413 1.20769413 1.20769413\n",
            "  1.20769413 1.20769413 1.20769413 1.20769413]\n",
            " [0.10227076 0.10227076 0.10227076 0.10227076 0.10227076 0.10227076\n",
            "  0.10227076 0.10227076 0.10227076 0.10227076]]\n",
            "[[0.66946169 1.35997994 0.41706638 1.20769413 0.10227076]\n",
            " [0.66946169 1.35997994 0.41706638 1.20769413 0.10227076]\n",
            " [0.66946169 1.35997994 0.41706638 1.20769413 0.10227076]\n",
            " [0.66946169 1.35997994 0.41706638 1.20769413 0.10227076]\n",
            " [0.66946169 1.35997994 0.41706638 1.20769413 0.10227076]\n",
            " [0.66946169 1.35997994 0.41706638 1.20769413 0.10227076]\n",
            " [0.66946169 1.35997994 0.41706638 1.20769413 0.10227076]\n",
            " [0.66946169 1.35997994 0.41706638 1.20769413 0.10227076]\n",
            " [0.66946169 1.35997994 0.41706638 1.20769413 0.10227076]\n",
            " [0.66946169 1.35997994 0.41706638 1.20769413 0.10227076]]\n",
            "[[0.66946169 1.35997994 0.41706638 1.20769413 0.10227076]\n",
            " [0.66946169 1.35997994 0.41706638 1.20769413 0.10227076]\n",
            " [0.66946169 1.35997994 0.41706638 1.20769413 0.10227076]\n",
            " [0.66946169 1.35997994 0.41706638 1.20769413 0.10227076]\n",
            " [0.66946169 1.35997994 0.41706638 1.20769413 0.10227076]\n",
            " [0.66946169 1.35997994 0.41706638 1.20769413 0.10227076]\n",
            " [0.66946169 1.35997994 0.41706638 1.20769413 0.10227076]\n",
            " [0.66946169 1.35997994 0.41706638 1.20769413 0.10227076]\n",
            " [0.66946169 1.35997994 0.41706638 1.20769413 0.10227076]\n",
            " [0.66946169 1.35997994 0.41706638 1.20769413 0.10227076]]\n",
            "<class 'numpy.matrixlib.defmatrix.matrix'>\n",
            "(1, 5)\n"
          ],
          "name": "stdout"
        },
        {
          "output_type": "execute_result",
          "data": {
            "text/plain": [
              "True"
            ]
          },
          "metadata": {
            "tags": []
          },
          "execution_count": 14
        }
      ]
    }
  ]
}
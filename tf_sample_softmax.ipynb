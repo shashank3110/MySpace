{
  "nbformat": 4,
  "nbformat_minor": 0,
  "metadata": {
    "colab": {
      "name": "tf_sample_softmax.ipynb",
      "version": "0.3.2",
      "provenance": [],
      "include_colab_link": true
    },
    "kernelspec": {
      "name": "python3",
      "display_name": "Python 3"
    },
    "accelerator": "GPU"
  },
  "cells": [
    {
      "cell_type": "markdown",
      "metadata": {
        "id": "view-in-github",
        "colab_type": "text"
      },
      "source": [
        "[View in Colaboratory](https://colab.research.google.com/github/shashank3110/MySpace/blob/master/tf_sample_softmax.ipynb)"
      ]
    },
    {
      "metadata": {
        "id": "-fxmNrIcUoD-",
        "colab_type": "code",
        "colab": {
          "base_uri": "https://localhost:8080/",
          "height": 34
        },
        "outputId": "927f831b-a0a5-44e2-977b-a7508aab8f7c"
      },
      "cell_type": "code",
      "source": [
        "import tensorflow as tf\n",
        "import numpy as np\n",
        "from tensorflow import keras\n",
        "import matplotlib.pyplot as plt\n",
        "print(tf.__version__)"
      ],
      "execution_count": 2,
      "outputs": [
        {
          "output_type": "stream",
          "text": [
            "1.10.1\n"
          ],
          "name": "stdout"
        }
      ]
    },
    {
      "metadata": {
        "id": "VDZ5tiwVXDzM",
        "colab_type": "code",
        "colab": {}
      },
      "cell_type": "code",
      "source": [
        "data=keras.datasets.fashion_mnist\n",
        "(train_data,train_label),(test_data,test_label)=data.load_data()\n",
        "\n",
        "unique_labels=set(test_label)\n",
        "print(unique_labels)"
      ],
      "execution_count": 0,
      "outputs": []
    },
    {
      "metadata": {
        "id": "v_D2Vk_kdbiP",
        "colab_type": "code",
        "colab": {}
      },
      "cell_type": "code",
      "source": [
        "class_names = ['T-shirt/top', 'Trouser', 'Pullover', 'Dress', 'Coat', \n",
        "               'Sandal', 'Shirt', 'Sneaker', 'Bag', 'Ankle boot']\n",
        "plt.figure()\n",
        "plt.imshow(train_data[0])\n",
        "plt.colorbar()\n",
        "plt.grid(True)\n",
        "train_data=train_data/255.0\n",
        "test_data=test_data/255.0\n"
      ],
      "execution_count": 0,
      "outputs": []
    },
    {
      "metadata": {
        "id": "asGqEpZqkbPy",
        "colab_type": "code",
        "colab": {}
      },
      "cell_type": "code",
      "source": [
        "plt.figure(figsize=(10,10))\n",
        "for i in range(25):\n",
        "    plt.subplot(5,5,i+1)\n",
        "\n",
        "    plt.xticks([])\n",
        "    plt.yticks([])\n",
        "    plt.grid(False)\n",
        "    plt.imshow(train_data[i], cmap=plt.cm.binary)\n",
        "    plt.xlabel(class_names[train_label[i]])"
      ],
      "execution_count": 0,
      "outputs": []
    },
    {
      "metadata": {
        "id": "itUYUJlBwBcQ",
        "colab_type": "code",
        "colab": {}
      },
      "cell_type": "code",
      "source": [
        "model=keras.Sequential()\n",
        "model.add(keras.layers.Flatten(input_shape=(28, 28)))\n",
        "model.add(keras.layers.Dense(128,activation=tf.nn.relu))\n",
        "model.add(keras.layers.Dense(10,activation=tf.nn.softmax) )\n",
        "model.compile(optimizer=tf.keras.optimizers.Adam(), \n",
        "              loss='sparse_categorical_crossentropy',\n",
        "              metrics=['accuracy'])"
      ],
      "execution_count": 0,
      "outputs": []
    },
    {
      "metadata": {
        "id": "PVh6NQbGy851",
        "colab_type": "code",
        "colab": {
          "base_uri": "https://localhost:8080/",
          "height": 3434
        },
        "outputId": "614cdf61-272e-4c90-84be-ee6991f98c56"
      },
      "cell_type": "code",
      "source": [
        "epoch=10\n",
        "#for x in range(epoch): model.fit(train_data,train_label,epochs=epoch,batch_size=500)\n",
        "model.fit(train_data,train_label,epochs=epoch*10,batch_size=500)"
      ],
      "execution_count": 7,
      "outputs": [
        {
          "output_type": "stream",
          "text": [
            "Epoch 1/100\n",
            "60000/60000 [==============================] - 2s 28us/step - loss: 0.7078 - acc: 0.7646\n",
            "Epoch 2/100\n",
            "60000/60000 [==============================] - 1s 12us/step - loss: 0.4533 - acc: 0.8443\n",
            "Epoch 3/100\n",
            "60000/60000 [==============================] - 1s 12us/step - loss: 0.4084 - acc: 0.8601\n",
            "Epoch 4/100\n",
            "60000/60000 [==============================] - 1s 12us/step - loss: 0.3832 - acc: 0.8667\n",
            "Epoch 5/100\n",
            "60000/60000 [==============================] - 1s 11us/step - loss: 0.3628 - acc: 0.8723\n",
            "Epoch 6/100\n",
            "60000/60000 [==============================] - 1s 12us/step - loss: 0.3519 - acc: 0.8750\n",
            "Epoch 7/100\n",
            "60000/60000 [==============================] - 1s 11us/step - loss: 0.3382 - acc: 0.8816\n",
            "Epoch 8/100\n",
            "60000/60000 [==============================] - 1s 12us/step - loss: 0.3268 - acc: 0.8848\n",
            "Epoch 9/100\n",
            "60000/60000 [==============================] - 1s 12us/step - loss: 0.3180 - acc: 0.8880\n",
            "Epoch 10/100\n",
            "60000/60000 [==============================] - 1s 11us/step - loss: 0.3083 - acc: 0.8907\n",
            "Epoch 11/100\n",
            "60000/60000 [==============================] - 1s 12us/step - loss: 0.2995 - acc: 0.8931\n",
            "Epoch 12/100\n",
            "60000/60000 [==============================] - 1s 11us/step - loss: 0.2922 - acc: 0.8961\n",
            "Epoch 13/100\n",
            "60000/60000 [==============================] - 1s 12us/step - loss: 0.2880 - acc: 0.8968\n",
            "Epoch 14/100\n",
            "60000/60000 [==============================] - 1s 12us/step - loss: 0.2802 - acc: 0.8999\n",
            "Epoch 15/100\n",
            "60000/60000 [==============================] - 1s 12us/step - loss: 0.2728 - acc: 0.9021\n",
            "Epoch 16/100\n",
            "60000/60000 [==============================] - 1s 12us/step - loss: 0.2651 - acc: 0.9043\n",
            "Epoch 17/100\n",
            "60000/60000 [==============================] - 1s 12us/step - loss: 0.2610 - acc: 0.9057\n",
            "Epoch 18/100\n",
            "60000/60000 [==============================] - 1s 13us/step - loss: 0.2592 - acc: 0.9068\n",
            "Epoch 19/100\n",
            "60000/60000 [==============================] - 1s 11us/step - loss: 0.2537 - acc: 0.9080\n",
            "Epoch 20/100\n",
            "60000/60000 [==============================] - 1s 12us/step - loss: 0.2470 - acc: 0.9113\n",
            "Epoch 21/100\n",
            "60000/60000 [==============================] - 1s 11us/step - loss: 0.2410 - acc: 0.9132\n",
            "Epoch 22/100\n",
            "60000/60000 [==============================] - 1s 12us/step - loss: 0.2368 - acc: 0.9146\n",
            "Epoch 23/100\n",
            "60000/60000 [==============================] - 1s 12us/step - loss: 0.2343 - acc: 0.9155\n",
            "Epoch 24/100\n",
            "60000/60000 [==============================] - 1s 12us/step - loss: 0.2299 - acc: 0.9173\n",
            "Epoch 25/100\n",
            "60000/60000 [==============================] - 1s 12us/step - loss: 0.2256 - acc: 0.9184\n",
            "Epoch 26/100\n",
            "60000/60000 [==============================] - 1s 11us/step - loss: 0.2252 - acc: 0.9184\n",
            "Epoch 27/100\n",
            "60000/60000 [==============================] - 1s 12us/step - loss: 0.2216 - acc: 0.9194\n",
            "Epoch 28/100\n",
            "60000/60000 [==============================] - 1s 12us/step - loss: 0.2128 - acc: 0.9233\n",
            "Epoch 29/100\n",
            "60000/60000 [==============================] - 1s 12us/step - loss: 0.2105 - acc: 0.9243\n",
            "Epoch 30/100\n",
            "60000/60000 [==============================] - 1s 11us/step - loss: 0.2066 - acc: 0.9261\n",
            "Epoch 31/100\n",
            "60000/60000 [==============================] - 1s 12us/step - loss: 0.2054 - acc: 0.9259\n",
            "Epoch 32/100\n",
            "60000/60000 [==============================] - 1s 11us/step - loss: 0.2027 - acc: 0.9272\n",
            "Epoch 33/100\n",
            "60000/60000 [==============================] - 1s 12us/step - loss: 0.2011 - acc: 0.9274\n",
            "Epoch 34/100\n",
            "60000/60000 [==============================] - 1s 11us/step - loss: 0.1955 - acc: 0.9289\n",
            "Epoch 35/100\n",
            "60000/60000 [==============================] - 1s 11us/step - loss: 0.1924 - acc: 0.9307\n",
            "Epoch 36/100\n",
            "60000/60000 [==============================] - 1s 12us/step - loss: 0.1928 - acc: 0.9306\n",
            "Epoch 37/100\n",
            "60000/60000 [==============================] - 1s 11us/step - loss: 0.1897 - acc: 0.9315\n",
            "Epoch 38/100\n",
            "60000/60000 [==============================] - 1s 12us/step - loss: 0.1875 - acc: 0.9334\n",
            "Epoch 39/100\n",
            "60000/60000 [==============================] - 1s 11us/step - loss: 0.1874 - acc: 0.9317\n",
            "Epoch 40/100\n",
            "60000/60000 [==============================] - 1s 12us/step - loss: 0.1820 - acc: 0.9350\n",
            "Epoch 41/100\n",
            "60000/60000 [==============================] - 1s 11us/step - loss: 0.1802 - acc: 0.9351\n",
            "Epoch 42/100\n",
            "60000/60000 [==============================] - 1s 12us/step - loss: 0.1746 - acc: 0.9381\n",
            "Epoch 43/100\n",
            "60000/60000 [==============================] - 1s 12us/step - loss: 0.1739 - acc: 0.9378\n",
            "Epoch 44/100\n",
            "60000/60000 [==============================] - 1s 11us/step - loss: 0.1722 - acc: 0.9389\n",
            "Epoch 45/100\n",
            "60000/60000 [==============================] - 1s 12us/step - loss: 0.1690 - acc: 0.9400\n",
            "Epoch 46/100\n",
            "60000/60000 [==============================] - 1s 11us/step - loss: 0.1713 - acc: 0.9390\n",
            "Epoch 47/100\n",
            "60000/60000 [==============================] - 1s 12us/step - loss: 0.1669 - acc: 0.9408\n",
            "Epoch 48/100\n",
            "60000/60000 [==============================] - 1s 11us/step - loss: 0.1650 - acc: 0.9409\n",
            "Epoch 49/100\n",
            "60000/60000 [==============================] - 1s 12us/step - loss: 0.1612 - acc: 0.9424\n",
            "Epoch 50/100\n",
            "60000/60000 [==============================] - 1s 11us/step - loss: 0.1606 - acc: 0.9432\n",
            "Epoch 51/100\n",
            "60000/60000 [==============================] - 1s 11us/step - loss: 0.1567 - acc: 0.9444\n",
            "Epoch 52/100\n",
            "60000/60000 [==============================] - 1s 12us/step - loss: 0.1551 - acc: 0.9451\n",
            "Epoch 53/100\n",
            "60000/60000 [==============================] - 1s 11us/step - loss: 0.1545 - acc: 0.9449\n",
            "Epoch 54/100\n",
            "60000/60000 [==============================] - 1s 12us/step - loss: 0.1537 - acc: 0.9457\n",
            "Epoch 55/100\n",
            "60000/60000 [==============================] - 1s 11us/step - loss: 0.1467 - acc: 0.9488\n",
            "Epoch 56/100\n",
            "60000/60000 [==============================] - 1s 12us/step - loss: 0.1500 - acc: 0.9459\n",
            "Epoch 57/100\n",
            "60000/60000 [==============================] - 1s 11us/step - loss: 0.1438 - acc: 0.9504\n",
            "Epoch 58/100\n",
            "60000/60000 [==============================] - 1s 12us/step - loss: 0.1443 - acc: 0.9491\n",
            "Epoch 59/100\n",
            "60000/60000 [==============================] - 1s 11us/step - loss: 0.1432 - acc: 0.9493\n",
            "Epoch 60/100\n",
            "60000/60000 [==============================] - 1s 12us/step - loss: 0.1460 - acc: 0.9475\n",
            "Epoch 61/100\n",
            "60000/60000 [==============================] - 1s 12us/step - loss: 0.1397 - acc: 0.9497\n",
            "Epoch 62/100\n",
            "60000/60000 [==============================] - 1s 11us/step - loss: 0.1364 - acc: 0.9518\n",
            "Epoch 63/100\n",
            "60000/60000 [==============================] - 1s 12us/step - loss: 0.1387 - acc: 0.9503\n",
            "Epoch 64/100\n",
            "60000/60000 [==============================] - 1s 11us/step - loss: 0.1332 - acc: 0.9539\n",
            "Epoch 65/100\n",
            "60000/60000 [==============================] - 1s 12us/step - loss: 0.1316 - acc: 0.9537\n",
            "Epoch 66/100\n",
            "60000/60000 [==============================] - 1s 12us/step - loss: 0.1321 - acc: 0.9531\n",
            "Epoch 67/100\n",
            "60000/60000 [==============================] - 1s 12us/step - loss: 0.1266 - acc: 0.9557\n",
            "Epoch 68/100\n",
            "60000/60000 [==============================] - 1s 11us/step - loss: 0.1266 - acc: 0.9560\n",
            "Epoch 69/100\n",
            "60000/60000 [==============================] - 1s 12us/step - loss: 0.1254 - acc: 0.9555\n",
            "Epoch 70/100\n",
            "60000/60000 [==============================] - 1s 12us/step - loss: 0.1243 - acc: 0.9563\n",
            "Epoch 71/100\n",
            "60000/60000 [==============================] - 1s 11us/step - loss: 0.1212 - acc: 0.9575\n",
            "Epoch 72/100\n",
            "60000/60000 [==============================] - 1s 12us/step - loss: 0.1202 - acc: 0.9581\n",
            "Epoch 73/100\n",
            "60000/60000 [==============================] - 1s 11us/step - loss: 0.1177 - acc: 0.9594\n",
            "Epoch 74/100\n",
            "60000/60000 [==============================] - 1s 12us/step - loss: 0.1187 - acc: 0.9583\n",
            "Epoch 75/100\n",
            "60000/60000 [==============================] - 1s 11us/step - loss: 0.1166 - acc: 0.9595\n",
            "Epoch 76/100\n",
            "60000/60000 [==============================] - 1s 12us/step - loss: 0.1146 - acc: 0.9604\n",
            "Epoch 77/100\n",
            "60000/60000 [==============================] - 1s 11us/step - loss: 0.1165 - acc: 0.9592\n",
            "Epoch 78/100\n",
            "60000/60000 [==============================] - 1s 12us/step - loss: 0.1120 - acc: 0.9609\n",
            "Epoch 79/100\n",
            "60000/60000 [==============================] - 1s 11us/step - loss: 0.1138 - acc: 0.9605\n",
            "Epoch 80/100\n",
            "60000/60000 [==============================] - 1s 11us/step - loss: 0.1105 - acc: 0.9618\n",
            "Epoch 81/100\n",
            "60000/60000 [==============================] - 1s 12us/step - loss: 0.1120 - acc: 0.9612\n",
            "Epoch 82/100\n",
            "60000/60000 [==============================] - 1s 11us/step - loss: 0.1063 - acc: 0.9634\n",
            "Epoch 83/100\n",
            "60000/60000 [==============================] - 1s 12us/step - loss: 0.1099 - acc: 0.9620\n",
            "Epoch 84/100\n",
            "60000/60000 [==============================] - 1s 11us/step - loss: 0.1043 - acc: 0.9648\n",
            "Epoch 85/100\n",
            "60000/60000 [==============================] - 1s 12us/step - loss: 0.1049 - acc: 0.9639\n",
            "Epoch 86/100\n",
            "60000/60000 [==============================] - 1s 11us/step - loss: 0.1014 - acc: 0.9648\n",
            "Epoch 87/100\n",
            "60000/60000 [==============================] - 1s 12us/step - loss: 0.1002 - acc: 0.9665\n",
            "Epoch 88/100\n",
            "60000/60000 [==============================] - 1s 11us/step - loss: 0.1010 - acc: 0.9654\n",
            "Epoch 89/100\n",
            "60000/60000 [==============================] - 1s 12us/step - loss: 0.0984 - acc: 0.9667\n",
            "Epoch 90/100\n",
            "60000/60000 [==============================] - 1s 12us/step - loss: 0.0981 - acc: 0.9661\n",
            "Epoch 91/100\n",
            "60000/60000 [==============================] - 1s 11us/step - loss: 0.0946 - acc: 0.9678\n",
            "Epoch 92/100\n",
            "60000/60000 [==============================] - 1s 12us/step - loss: 0.0946 - acc: 0.9682\n",
            "Epoch 93/100\n",
            "60000/60000 [==============================] - 1s 11us/step - loss: 0.0945 - acc: 0.9679\n",
            "Epoch 94/100\n",
            "60000/60000 [==============================] - 1s 12us/step - loss: 0.0928 - acc: 0.9684\n",
            "Epoch 95/100\n",
            "60000/60000 [==============================] - 1s 11us/step - loss: 0.0935 - acc: 0.9684\n",
            "Epoch 96/100\n",
            "60000/60000 [==============================] - 1s 12us/step - loss: 0.0904 - acc: 0.9692\n",
            "Epoch 97/100\n",
            "60000/60000 [==============================] - 1s 11us/step - loss: 0.0929 - acc: 0.9677\n",
            "Epoch 98/100\n",
            "60000/60000 [==============================] - 1s 11us/step - loss: 0.0899 - acc: 0.9693\n",
            "Epoch 99/100\n",
            "60000/60000 [==============================] - 1s 11us/step - loss: 0.0871 - acc: 0.9705\n",
            "Epoch 100/100\n",
            "60000/60000 [==============================] - 1s 11us/step - loss: 0.0879 - acc: 0.9697\n"
          ],
          "name": "stdout"
        },
        {
          "output_type": "execute_result",
          "data": {
            "text/plain": [
              "<tensorflow.python.keras.callbacks.History at 0x7f7cb10b2828>"
            ]
          },
          "metadata": {
            "tags": []
          },
          "execution_count": 7
        }
      ]
    },
    {
      "metadata": {
        "id": "mtkxKDyDzi99",
        "colab_type": "code",
        "colab": {
          "base_uri": "https://localhost:8080/",
          "height": 51
        },
        "outputId": "863d23b7-908e-4d83-9afe-e75eb4143b8e"
      },
      "cell_type": "code",
      "source": [
        "result=model.predict(test_data,batch_size=100)\n",
        "#print(result)\n",
        "model.evaluate(test_data,test_label, batch_size=100)#returns loss_and_metrics"
      ],
      "execution_count": 8,
      "outputs": [
        {
          "output_type": "stream",
          "text": [
            "10000/10000 [==============================] - 0s 20us/step\n"
          ],
          "name": "stdout"
        },
        {
          "output_type": "execute_result",
          "data": {
            "text/plain": [
              "[0.42827156208455563, 0.8829000002145767]"
            ]
          },
          "metadata": {
            "tags": []
          },
          "execution_count": 8
        }
      ]
    }
  ]
}
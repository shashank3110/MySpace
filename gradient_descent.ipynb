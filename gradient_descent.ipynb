{
 "cells": [
  {
   "cell_type": "code",
   "execution_count": 1,
   "metadata": {},
   "outputs": [
    {
     "name": "stdout",
     "output_type": "stream",
     "text": [
      "<class 'numpy.ndarray'>\n",
      "x at start [1. 1.]\n"
     ]
    }
   ],
   "source": [
    "import numpy as np\n",
    "import subprocess\n",
    "c=10 # if we increase C for high dimensions it becomes very slow\n",
    "n=2 # for higher dimensions also the algo is very efficient except C is not very large\n",
    "#when n was set to 100 iterations the norm(gradient) for the gradients collapsed ie =0 which gave divide by zero error for delta\n",
    "w=0.01\n",
    "w1=1.2\n",
    "w2=0.5\n",
    "alpha=1\n",
    "theta=0.001\n",
    "delmax=np.inf\n",
    "\n",
    "x=np.ones(n)#array([1,1])\n",
    "\n",
    "print(type(x))\n",
    "print(\"x at start\",x)\n"
   ]
  },
  {
   "cell_type": "code",
   "execution_count": 2,
   "metadata": {},
   "outputs": [],
   "source": [
    "#C=np.diag(C)\n",
    "def compute_C(n,c):\n",
    "    C=np.zeros([n,n])\n",
    "    for i in range(n):\n",
    "        C[i][i]=(pow(c,(i)/(n-1)))\n",
    "    return C "
   ]
  },
  {
   "cell_type": "code",
   "execution_count": 3,
   "metadata": {},
   "outputs": [],
   "source": [
    "def fSq(x):\n",
    "    \n",
    "    C=compute_C(n,c)\n",
    "    f=np.dot(np.transpose(x),C)\n",
    "    fsq=np.dot(f,x)\n",
    "    fsq\n",
    "    return fsq"
   ]
  },
  {
   "cell_type": "code",
   "execution_count": 4,
   "metadata": {},
   "outputs": [],
   "source": [
    "def fHole(x):\n",
    "    fhole=1-np.exp(-fSq(x))\n",
    "    return fhole"
   ]
  },
  {
   "cell_type": "code",
   "execution_count": 5,
   "metadata": {},
   "outputs": [
    {
     "name": "stdout",
     "output_type": "stream",
     "text": [
      "[1. 1.]\n"
     ]
    }
   ],
   "source": [
    "C=compute_C(n,c)\n",
    "val=np.dot(np.transpose(C),x)+np.dot(C,x)\n",
    "print(x)\n",
    "C=compute_C(n,c)\n",
    "\n",
    "def gradient(x):\n",
    "    val=np.dot(np.transpose(C),x)+np.dot(C,x)\n",
    "    dict={'fSq': val,'fHole':np.exp(-fSq(x))*val}\n",
    "    return dict\n",
    "    \n",
    "    "
   ]
  },
  {
   "cell_type": "code",
   "execution_count": 6,
   "metadata": {},
   "outputs": [
    {
     "data": {
      "text/plain": [
       "array([2.71828183, 2.71828183])"
      ]
     },
     "execution_count": 6,
     "metadata": {},
     "output_type": "execute_result"
    }
   ],
   "source": [
    "np.transpose(np.exp(x))"
   ]
  },
  {
   "cell_type": "code",
   "execution_count": 7,
   "metadata": {},
   "outputs": [
    {
     "name": "stdout",
     "output_type": "stream",
     "text": [
      "[ 2. 20.]\n"
     ]
    }
   ],
   "source": [
    "dict=gradient(x)\n",
    "print(dict['fSq'])\n"
   ]
  },
  {
   "cell_type": "code",
   "execution_count": 8,
   "metadata": {},
   "outputs": [],
   "source": [
    "def compute_grad_descent(x1,func):\n",
    "    grad=gradient(x1)\n",
    "    grad=grad[func.__name__]\n",
    "    #print(grad)\n",
    "    delta=-(grad/np.linalg.norm(grad))\n",
    "    #print(delta)\n",
    "    alpha=1\n",
    "    theta=10\n",
    "    #print(w)\n",
    "    i=0\n",
    "    print(alpha*delta)\n",
    "    print(np.dot(np.transpose(alpha*delta), alpha*delta))\n",
    "    print(np.linalg.norm(alpha*delta))\n",
    "    st=''\n",
    "    with open('data2.dat','w') as file:\n",
    "        while  np.linalg.norm(alpha*delta) <theta :\n",
    "            #num iterations\n",
    "            print(alpha)\n",
    "            grad=gradient(x1)\n",
    "            grad=grad[func.__name__]\n",
    "            delta=-(grad/np.linalg.norm(grad))\n",
    "            j=0\n",
    "            while func(x1+alpha*delta) > func(x1) +(w*(np.dot(np.transpose(grad),alpha*delta))) :\n",
    "                    #num func evaluations\n",
    "                    alpha=w2*alpha\n",
    "                    j=j+1\n",
    "            print(\"num evaluations\",j)\n",
    "            for val in x1:\n",
    "                \n",
    "                st=st+str(val)+\" \"\n",
    "\n",
    "                \n",
    "            st=st+str(func(x1))+\" \"\n",
    "            st=st+'\\n'\n",
    "            \n",
    "            file.write(st)\n",
    "            x1=x1+alpha*delta\n",
    "            \n",
    "            alpha=min(w1*alpha,delmax)\n",
    "            i=i+1\n",
    "            if i==10:\n",
    "                break\n",
    "            \n",
    "            st=''\n",
    "    return x1,alpha,delta\n"
   ]
  },
  {
   "cell_type": "code",
   "execution_count": 9,
   "metadata": {},
   "outputs": [],
   "source": [
    "# res=compute_grad_descent(x,fSq)\n",
    "# print(\"Final Values\")\n",
    "# print(\"x\",res[0])\n",
    "# print(\"alpha\",res[1])\n",
    "# print(\"delta\",res[2])"
   ]
  },
  {
   "cell_type": "code",
   "execution_count": 10,
   "metadata": {},
   "outputs": [
    {
     "name": "stdout",
     "output_type": "stream",
     "text": [
      "[-0.09950372 -0.99503719]\n",
      "1.0\n",
      "1.0\n",
      "1\n",
      "num evaluations 0\n",
      "1.2\n",
      "num evaluations 0\n",
      "1.44\n",
      "num evaluations 4\n",
      "0.108\n",
      "num evaluations 0\n",
      "0.1296\n",
      "num evaluations 1\n",
      "0.07776\n",
      "num evaluations 1\n",
      "0.046655999999999996\n",
      "num evaluations 0\n",
      "0.055987199999999994\n",
      "num evaluations 1\n",
      "0.033592319999999995\n",
      "num evaluations 0\n",
      "0.040310783999999995\n",
      "num evaluations 1\n"
     ]
    },
    {
     "data": {
      "text/plain": [
       "(array([-0.04257286, -0.00598309]),\n",
       " 0.024186470399999997,\n",
       " array([ 0.36331375, -0.93166685]))"
      ]
     },
     "execution_count": 10,
     "metadata": {},
     "output_type": "execute_result"
    }
   ],
   "source": [
    "compute_grad_descent(x,fHole)"
   ]
  },
  {
   "cell_type": "code",
   "execution_count": 11,
   "metadata": {},
   "outputs": [],
   "source": [
    "plot = subprocess.Popen(['gnuplot'], stdin=subprocess.PIPE)"
   ]
  },
  {
   "cell_type": "code",
   "execution_count": 12,
   "metadata": {},
   "outputs": [
    {
     "data": {
      "text/plain": [
       "(None, None)"
      ]
     },
     "execution_count": 12,
     "metadata": {},
     "output_type": "execute_result"
    }
   ],
   "source": [
    "\n",
    "plot.communicate(b'''\n",
    "\n",
    "set isosamples 50, 50\n",
    "set contour\n",
    "#f(x,y) = x*x+10*y*y\n",
    "f(x,y) = 1 - exp(-x*x-10*y*y)\n",
    "splot [-1:1][-1:1] f(x,y)\n",
    "pause 2\n",
    "unset contour\n",
    "splot [-3:3][-3:3] f(x,y), 'data2.dat' with lines lt rgb \"#00FF00\"\n",
    "pause 50\n",
    "''')"
   ]
  },
  {
   "cell_type": "code",
   "execution_count": null,
   "metadata": {},
   "outputs": [],
   "source": []
  }
 ],
 "metadata": {
  "kernelspec": {
   "display_name": "Python 3",
   "language": "python",
   "name": "python3"
  },
  "language_info": {
   "codemirror_mode": {
    "name": "ipython",
    "version": 3
   },
   "file_extension": ".py",
   "mimetype": "text/x-python",
   "name": "python",
   "nbconvert_exporter": "python",
   "pygments_lexer": "ipython3",
   "version": "3.6.7"
  }
 },
 "nbformat": 4,
 "nbformat_minor": 2
}

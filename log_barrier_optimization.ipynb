{
 "cells": [
  {
   "cell_type": "code",
   "execution_count": 301,
   "metadata": {},
   "outputs": [],
   "source": [
    "#do not refer this code\n",
    "import numpy as np"
   ]
  },
  {
   "cell_type": "code",
   "execution_count": 302,
   "metadata": {},
   "outputs": [],
   "source": [
    "def get_fx(x):\n",
    "    f=0\n",
    "    for i in range(n):\n",
    "        f+=x[i]\n",
    "    return f"
   ]
  },
  {
   "cell_type": "code",
   "execution_count": 303,
   "metadata": {},
   "outputs": [],
   "source": [
    "def get_dfx():\n",
    "    return np.array((1,1))"
   ]
  },
  {
   "cell_type": "code",
   "execution_count": 304,
   "metadata": {},
   "outputs": [],
   "source": [
    "def get_gx(x):\n",
    "    xt=np.transpose(x)\n",
    "    g=np.array((np.dot(xt,x)-1,-x[0]))\n",
    "    g=g.reshape((1,2))\n",
    "    return g"
   ]
  },
  {
   "cell_type": "code",
   "execution_count": 305,
   "metadata": {},
   "outputs": [],
   "source": [
    "def get_dgx(x):\n",
    "    c1=2*x[0]\n",
    "    c2=2*x[1]\n",
    "    return np.array(((c1,c2),(-1,0)))"
   ]
  },
  {
   "cell_type": "code",
   "execution_count": 306,
   "metadata": {},
   "outputs": [],
   "source": [
    "# def log_barrier(f,g,x,n):\n",
    "#     sum=0\n",
    "#     g=g(x)\n",
    "#     for i in range(n):\n",
    "#         sum=sum+np.log(-g[i])\n",
    "#     F=f(x)-u*sum\n",
    "#     return F\n"
   ]
  },
  {
   "cell_type": "code",
   "execution_count": 307,
   "metadata": {},
   "outputs": [],
   "source": [
    "\n",
    "def compute_log_barrier_gradient(x,n):\n",
    "    sum=np.empty((1,2))\n",
    "    u=1 #myu\n",
    "    dfx=get_dfx()\n",
    "    iter=10\n",
    "    while iter>=0:\n",
    "        g=get_gx\n",
    "        dgx=get_dgx(x)\n",
    "        y=x.reshape((1,2))\n",
    "        g=g(x)\n",
    "        \n",
    "        DF=np.empty((1,2)) \n",
    "        i=0\n",
    "        #for i in range(1):\n",
    "        for j in range(n):\n",
    "\n",
    "            print(\"dgx\",dgx[j])\n",
    "            sum=sum+dgx[j]/g[i][j]\n",
    "            print(\"sum=\",sum)\n",
    "        print(\"Total sum\",sum)\n",
    "        DF[i]=dfx[i]-u*sum\n",
    "\n",
    "        print(\"x before\",y[i])\n",
    "        print(\"DF\",DF[i])\n",
    "        y[i]=y[i]-a*DF[i]\n",
    "        print(\"x after\",y[i])\n",
    "        print(\"myu=\",u)\n",
    "        u=u/2    \n",
    "            \n",
    "        x=y.reshape(2)\n",
    "        iter=iter-1\n",
    "    return x,DF,g\n"
   ]
  },
  {
   "cell_type": "code",
   "execution_count": 308,
   "metadata": {},
   "outputs": [],
   "source": [
    "\n",
    "#g=get_gx(x)\n",
    "#g[0]\n",
    "#x[0][0]\n",
    "# x=np.array((0.5,1))#[[0.5,0.5]]\n",
    "# print(np.shape(x))\n",
    "# xt=np.transpose(x)\n",
    "# print(np.shape(xt))\n",
    "# z=xt*x\n",
    "# print(z)\n",
    "# m=np.multiply(xt,x)-1\n",
    "# print(np.shape(m))\n",
    "# y=x.reshape((1,2))\n",
    "# # g=np.array((np.matmul(xt,x)-np.eye(2),-x[0][0]))\n",
    "# # g=g.reshape((1,2))\n",
    "# print(np.shape(y))\n",
    "# # g"
   ]
  },
  {
   "cell_type": "code",
   "execution_count": 309,
   "metadata": {},
   "outputs": [
    {
     "name": "stdout",
     "output_type": "stream",
     "text": [
      "x at start= [0.5 0.5]\n",
      "dgx [1. 1.]\n",
      "sum= [[-1.5 -1.5]]\n",
      "dgx [-1.  0.]\n",
      "sum= [[ 0.5 -1.5]]\n",
      "Total sum [[ 0.5 -1.5]]\n",
      "x before [0.5 0.5]\n",
      "DF [0.5 2.5]\n",
      "x after [0.495 0.475]\n",
      "myu= 1\n",
      "dgx [0.99 0.95]\n",
      "sum= [[-1.37021819 -3.29465382]]\n",
      "dgx [-1.  0.]\n",
      "sum= [[ 0.64998383 -3.29465382]]\n",
      "Total sum [[ 0.64998383 -3.29465382]]\n",
      "x before [0.495 0.475]\n",
      "DF [0.67500809 2.64732691]\n",
      "x after [0.48824992 0.44852673]\n",
      "myu= 0.5\n",
      "dgx [0.97649984 0.89705346]\n",
      "sum= [[-1.09240996 -4.8952894 ]]\n",
      "dgx [-1.  0.]\n",
      "sum= [[ 0.95572146 -4.8952894 ]]\n",
      "Total sum [[ 0.95572146 -4.8952894 ]]\n",
      "x before [0.48824992 0.44852673]\n",
      "DF [0.76106964 2.22382235]\n",
      "x after [0.48063922 0.42628851]\n",
      "myu= 0.25\n",
      "dgx [0.96127845 0.85257701]\n",
      "sum= [[-0.68115458 -6.34706739]]\n",
      "dgx [-1.  0.]\n",
      "sum= [[ 1.39940803 -6.34706739]]\n",
      "Total sum [[ 1.39940803 -6.34706739]]\n",
      "x before [0.48063922 0.42628851]\n",
      "DF [0.825074   1.79338342]\n",
      "x after [0.47238848 0.40835467]\n",
      "myu= 0.125\n",
      "dgx [0.94477697 0.81670935]\n",
      "sum= [[-0.14916401 -7.68572541]]\n",
      "dgx [-1.  0.]\n",
      "sum= [[ 1.96773772 -7.68572541]]\n",
      "Total sum [[ 1.96773772 -7.68572541]]\n",
      "x before [0.47238848 0.40835467]\n",
      "DF [0.87701639 1.48035784]\n",
      "x after [0.46361832 0.39355109]\n",
      "myu= 0.0625\n",
      "dgx [0.92723664 0.78710219]\n",
      "sum= [[ 0.49634364 -8.93474584]]\n",
      "dgx [-1.  0.]\n",
      "sum= [[ 2.65329033 -8.93474584]]\n",
      "Total sum [[ 2.65329033 -8.93474584]]\n",
      "x before [0.46361832 0.39355109]\n",
      "DF [0.91708468 1.27921081]\n",
      "x after [0.45444747 0.38075899]\n",
      "myu= 0.03125\n",
      "dgx [0.90889494 0.76151797]\n",
      "sum= [[  1.2517563  -10.10902166]]\n",
      "dgx [-1.  0.]\n",
      "sum= [[  3.45223063 -10.10902166]]\n",
      "Total sum [[  3.45223063 -10.10902166]]\n",
      "x before [0.45444747 0.38075899]\n",
      "DF [0.9460589  1.15795346]\n",
      "x after [0.44498688 0.36917945]\n",
      "myu= 0.015625\n",
      "dgx [0.88997377 0.7383589 ]\n",
      "sum= [[  2.11531784 -11.2181796 ]]\n",
      "dgx [-1.  0.]\n",
      "sum= [[  4.36257509 -11.2181796 ]]\n",
      "Total sum [[  4.36257509 -11.2181796 ]]\n",
      "x before [0.44498688 0.36917945]\n",
      "DF [0.96591738 1.08764203]\n",
      "x after [0.43532771 0.35830303]\n",
      "myu= 0.0078125\n",
      "dgx [0.87065542 0.71660606]\n",
      "sum= [[  3.08615772 -12.26875415]]\n",
      "dgx [-1.  0.]\n",
      "sum= [[  5.38327775 -12.26875415]]\n",
      "Total sum [[  5.38327775 -12.26875415]]\n",
      "x before [0.43532771 0.35830303]\n",
      "DF [0.97897157 1.04792482]\n",
      "x after [0.42553799 0.34782378]\n",
      "myu= 0.00390625\n",
      "dgx [0.85107599 0.69564757]\n",
      "sum= [[  4.16385943 -13.26547525]]\n",
      "dgx [-1.  0.]\n",
      "sum= [[  6.51382586 -13.26547525]]\n",
      "Total sum [[  6.51382586 -13.26547525]]\n",
      "x before [0.42553799 0.34782378]\n",
      "DF [0.98727768 1.02590913]\n",
      "x after [0.41566522 0.33756469]\n",
      "myu= 0.001953125\n",
      "dgx [0.83133043 0.67512938]\n",
      "sum= [[  5.34830998 -14.21199902]]\n",
      "dgx [-1.  0.]\n",
      "sum= [[  7.75409222 -14.21199902]]\n",
      "Total sum [[  7.75409222 -14.21199902]]\n",
      "x before [0.41566522 0.33756469]\n",
      "DF [0.99242764 1.01387891]\n",
      "x after [0.40574094 0.3274259 ]\n",
      "myu= 0.0009765625\n",
      "x= [0.40574094 0.3274259 ]\n",
      "DF = [[0.99242764 1.01387891]]\n",
      "g= [[-0.71327251 -0.41566522]]\n"
     ]
    }
   ],
   "source": [
    "\n",
    "a=1/100 #alpha\n",
    "n=2\n",
    "x=np.array((0.5,0.5))\n",
    "print(\"x at start=\",x)\n",
    "x,DF,g=compute_log_barrier_gradient(x,n)\n",
    "print(\"x=\",x)\n",
    "print(\"DF =\",DF)\n",
    "print(\"g=\",g)"
   ]
  },
  {
   "cell_type": "code",
   "execution_count": 310,
   "metadata": {},
   "outputs": [
    {
     "data": {
      "text/plain": [
       "0.7331668435639727"
      ]
     },
     "execution_count": 310,
     "metadata": {},
     "output_type": "execute_result"
    }
   ],
   "source": [
    "get_fx(x)"
   ]
  },
  {
   "cell_type": "code",
   "execution_count": null,
   "metadata": {},
   "outputs": [],
   "source": []
  },
  {
   "cell_type": "code",
   "execution_count": null,
   "metadata": {},
   "outputs": [],
   "source": []
  }
 ],
 "metadata": {
  "kernelspec": {
   "display_name": "Python 3",
   "language": "python",
   "name": "python3"
  },
  "language_info": {
   "codemirror_mode": {
    "name": "ipython",
    "version": 3
   },
   "file_extension": ".py",
   "mimetype": "text/x-python",
   "name": "python",
   "nbconvert_exporter": "python",
   "pygments_lexer": "ipython3",
   "version": "3.6.7"
  }
 },
 "nbformat": 4,
 "nbformat_minor": 2
}

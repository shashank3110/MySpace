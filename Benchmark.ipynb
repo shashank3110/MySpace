{
 "cells": [
  {
   "cell_type": "code",
   "execution_count": 50,
   "metadata": {},
   "outputs": [],
   "source": [
    "from threading import Thread\n",
    "from multiprocessing import Process\n",
    "from time import time , sleep"
   ]
  },
  {
   "cell_type": "code",
   "execution_count": 51,
   "metadata": {},
   "outputs": [],
   "source": [
    "n=3\n",
    "num=10 \n",
    "result=1\n",
    "\n",
    "st='A'"
   ]
  },
  {
   "cell_type": "code",
   "execution_count": 52,
   "metadata": {},
   "outputs": [],
   "source": [
    "# def fact(num):\n",
    "    \n",
    "#     for i in range(1,num+1):\n",
    "#         result=result*i\n",
    "\n",
    "def display(num,st):\n",
    "    for i in range(num):\n",
    "        print(st)"
   ]
  },
  {
   "cell_type": "code",
   "execution_count": 53,
   "metadata": {},
   "outputs": [],
   "source": [
    "def multithread(n):\n",
    "    st='A'\n",
    "    thread_job=[]\n",
    "    for i in range(n):\n",
    "        t=Thread(target=display,args=(num,st))\n",
    "        thread_job.append(t)\n",
    "        st=st+chr(ord(st[-1])+1)\n",
    "    for job in thread_job:\n",
    "        job.start()\n",
    "    for job in thread_job:\n",
    "        job.join()\n",
    "    "
   ]
  },
  {
   "cell_type": "code",
   "execution_count": 54,
   "metadata": {},
   "outputs": [
    {
     "name": "stdout",
     "output_type": "stream",
     "text": [
      "A\n",
      "A\n",
      "A\n",
      "A\n",
      "A\n",
      "A\n",
      "A\n",
      "ABA\n",
      "AB\n",
      "AB\n",
      "AB\n",
      "AB\n",
      "AB\n",
      "AB\n",
      "AB\n",
      "AB\n",
      "AB\n",
      "\n",
      "ABC\n",
      "ABC\n",
      "ABC\n",
      "ABC\n",
      "ABC\n",
      "ABC\n",
      "ABC\n",
      "ABC\n",
      "ABC\n",
      "ABC\n",
      "A\n",
      "A\n"
     ]
    },
    {
     "data": {
      "text/plain": [
       "0.010495901107788086"
      ]
     },
     "execution_count": 54,
     "metadata": {},
     "output_type": "execute_result"
    }
   ],
   "source": [
    "ts=time()\n",
    "multithread(n)\n",
    "te=time()\n",
    "te-ts"
   ]
  },
  {
   "cell_type": "code",
   "execution_count": 55,
   "metadata": {},
   "outputs": [],
   "source": [
    "def multiproc(n):\n",
    "    st='A'\n",
    "    process_job=[]\n",
    "    for i in range(n):\n",
    "        p=Process(target=display,args=(num,st))\n",
    "        process_job.append(p)\n",
    "        st=st+chr(ord(st[-1])+1)\n",
    "    for job in process_job:\n",
    "        job.start()\n",
    "    for job in process_job:\n",
    "        job.join()\n",
    "    "
   ]
  },
  {
   "cell_type": "code",
   "execution_count": 56,
   "metadata": {},
   "outputs": [
    {
     "name": "stdout",
     "output_type": "stream",
     "text": [
      "A\n",
      "A\n",
      "AB\n",
      "A\n",
      "A\n",
      "ABC\n",
      "A\n",
      "AB\n",
      "ABC\n",
      "A\n",
      "AB\n",
      "A\n",
      "ABC\n",
      "ABC\n",
      "A\n",
      "AB\n",
      "ABC\n",
      "ABC\n",
      "A\n",
      "AB\n",
      "AB\n",
      "ABC\n",
      "ABC\n",
      "AB\n",
      "A\n",
      "AB\n",
      "ABC\n",
      "AB\n",
      "ABC\n",
      "AB\n"
     ]
    },
    {
     "data": {
      "text/plain": [
       "0.09394216537475586"
      ]
     },
     "execution_count": 56,
     "metadata": {},
     "output_type": "execute_result"
    }
   ],
   "source": [
    "ts=time()\n",
    "multiproc(n)\n",
    "te=time()\n",
    "te-ts"
   ]
  },
  {
   "cell_type": "code",
   "execution_count": null,
   "metadata": {},
   "outputs": [],
   "source": []
  }
 ],
 "metadata": {
  "kernelspec": {
   "display_name": "Python 3",
   "language": "python",
   "name": "python3"
  },
  "language_info": {
   "codemirror_mode": {
    "name": "ipython",
    "version": 3
   },
   "file_extension": ".py",
   "mimetype": "text/x-python",
   "name": "python",
   "nbconvert_exporter": "python",
   "pygments_lexer": "ipython3",
   "version": "3.6.7"
  }
 },
 "nbformat": 4,
 "nbformat_minor": 2
}

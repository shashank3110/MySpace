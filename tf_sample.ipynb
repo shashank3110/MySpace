{
  "nbformat": 4,
  "nbformat_minor": 0,
  "metadata": {
    "colab": {
      "name": "tf_sample.ipynb",
      "version": "0.3.2",
      "provenance": [],
      "include_colab_link": true
    },
    "kernelspec": {
      "name": "python3",
      "display_name": "Python 3"
    },
    "accelerator": "GPU"
  },
  "cells": [
    {
      "cell_type": "markdown",
      "metadata": {
        "id": "view-in-github",
        "colab_type": "text"
      },
      "source": [
        "[View in Colaboratory](https://colab.research.google.com/github/shashank3110/MySpace/blob/master/tf_sample.ipynb)"
      ]
    },
    {
      "metadata": {
        "id": "-fxmNrIcUoD-",
        "colab_type": "code",
        "colab": {
          "base_uri": "https://localhost:8080/",
          "height": 34
        },
        "outputId": "a9cf1fba-a1b7-487d-dbca-fa82b4900a17"
      },
      "cell_type": "code",
      "source": [
        "import tensorflow as tf\n",
        "import numpy as np\n",
        "from tensorflow import keras\n",
        "import matplotlib.pyplot as plt\n",
        "print(tf.__version__)"
      ],
      "execution_count": 2,
      "outputs": [
        {
          "output_type": "stream",
          "text": [
            "1.10.1\n"
          ],
          "name": "stdout"
        }
      ]
    },
    {
      "metadata": {
        "id": "VDZ5tiwVXDzM",
        "colab_type": "code",
        "colab": {}
      },
      "cell_type": "code",
      "source": [
        "data=keras.datasets.fashion_mnist\n",
        "(train_data,train_label),(test_data,test_label)=data.load_data()\n",
        "\n",
        "unique_labels=set(test_label)\n",
        "print(unique_labels)"
      ],
      "execution_count": 0,
      "outputs": []
    },
    {
      "metadata": {
        "id": "v_D2Vk_kdbiP",
        "colab_type": "code",
        "colab": {}
      },
      "cell_type": "code",
      "source": [
        "class_names = ['T-shirt/top', 'Trouser', 'Pullover', 'Dress', 'Coat', \n",
        "               'Sandal', 'Shirt', 'Sneaker', 'Bag', 'Ankle boot']\n",
        "plt.figure()\n",
        "plt.imshow(train_data[0])\n",
        "plt.colorbar()\n",
        "plt.grid(True)\n",
        "train_data=train_data/255.0\n",
        "test_data=test_data/255.0\n"
      ],
      "execution_count": 0,
      "outputs": []
    },
    {
      "metadata": {
        "id": "asGqEpZqkbPy",
        "colab_type": "code",
        "colab": {}
      },
      "cell_type": "code",
      "source": [
        "plt.figure(figsize=(10,10))\n",
        "for i in range(25):\n",
        "    plt.subplot(5,5,i+1)\n",
        "\n",
        "    plt.xticks([])\n",
        "    plt.yticks([])\n",
        "    plt.grid(False)\n",
        "    plt.imshow(train_data[i], cmap=plt.cm.binary)\n",
        "    plt.xlabel(class_names[train_label[i]])"
      ],
      "execution_count": 0,
      "outputs": []
    },
    {
      "metadata": {
        "id": "itUYUJlBwBcQ",
        "colab_type": "code",
        "colab": {}
      },
      "cell_type": "code",
      "source": [
        "model=keras.Sequential()\n",
        "model.add(keras.layers.Flatten(input_shape=(28, 28)))\n",
        "model.add(keras.layers.Dense(128,activation=tf.nn.relu))\n",
        "model.add(keras.layers.Dense(10,activation=tf.nn.sigmoid) )\n",
        "model.compile(optimizer=tf.keras.optimizers.Adam(), \n",
        "              loss='sparse_categorical_crossentropy',\n",
        "              metrics=['accuracy'])"
      ],
      "execution_count": 0,
      "outputs": []
    },
    {
      "metadata": {
        "id": "PVh6NQbGy851",
        "colab_type": "code",
        "colab": {
          "base_uri": "https://localhost:8080/",
          "height": 3434
        },
        "outputId": "268f0d44-f203-4c2b-fae0-d4159675d0ca"
      },
      "cell_type": "code",
      "source": [
        "epoch=10\n",
        "#for x in range(epoch): model.fit(train_data,train_label,epochs=epoch,batch_size=500)\n",
        "model.fit(train_data,train_label,epochs=epoch*10,batch_size=500)"
      ],
      "execution_count": 88,
      "outputs": [
        {
          "output_type": "stream",
          "text": [
            "Epoch 1/100\n",
            "60000/60000 [==============================] - 1s 22us/step - loss: 0.7850 - acc: 0.7420\n",
            "Epoch 2/100\n",
            "60000/60000 [==============================] - 1s 12us/step - loss: 0.4668 - acc: 0.8425\n",
            "Epoch 3/100\n",
            "60000/60000 [==============================] - 1s 13us/step - loss: 0.4204 - acc: 0.8571\n",
            "Epoch 4/100\n",
            "60000/60000 [==============================] - 1s 12us/step - loss: 0.3902 - acc: 0.8649\n",
            "Epoch 5/100\n",
            "60000/60000 [==============================] - 1s 13us/step - loss: 0.3730 - acc: 0.8698\n",
            "Epoch 6/100\n",
            "60000/60000 [==============================] - 1s 12us/step - loss: 0.3528 - acc: 0.8765\n",
            "Epoch 7/100\n",
            "60000/60000 [==============================] - 1s 12us/step - loss: 0.3386 - acc: 0.8807\n",
            "Epoch 8/100\n",
            "60000/60000 [==============================] - 1s 12us/step - loss: 0.3260 - acc: 0.8849\n",
            "Epoch 9/100\n",
            "60000/60000 [==============================] - 1s 12us/step - loss: 0.3173 - acc: 0.8880\n",
            "Epoch 10/100\n",
            "60000/60000 [==============================] - 1s 12us/step - loss: 0.3129 - acc: 0.8880\n",
            "Epoch 11/100\n",
            "60000/60000 [==============================] - 1s 12us/step - loss: 0.3027 - acc: 0.8916\n",
            "Epoch 12/100\n",
            "60000/60000 [==============================] - 1s 12us/step - loss: 0.2944 - acc: 0.8942\n",
            "Epoch 13/100\n",
            "60000/60000 [==============================] - 1s 12us/step - loss: 0.2881 - acc: 0.8967\n",
            "Epoch 14/100\n",
            "60000/60000 [==============================] - 1s 12us/step - loss: 0.2817 - acc: 0.8991\n",
            "Epoch 15/100\n",
            "60000/60000 [==============================] - 1s 12us/step - loss: 0.2750 - acc: 0.9013\n",
            "Epoch 16/100\n",
            "60000/60000 [==============================] - 1s 12us/step - loss: 0.2733 - acc: 0.9014\n",
            "Epoch 17/100\n",
            "60000/60000 [==============================] - 1s 12us/step - loss: 0.2683 - acc: 0.9015\n",
            "Epoch 18/100\n",
            "60000/60000 [==============================] - 1s 12us/step - loss: 0.2615 - acc: 0.9048\n",
            "Epoch 19/100\n",
            "60000/60000 [==============================] - 1s 12us/step - loss: 0.2575 - acc: 0.9068\n",
            "Epoch 20/100\n",
            "60000/60000 [==============================] - 1s 12us/step - loss: 0.2538 - acc: 0.9080\n",
            "Epoch 21/100\n",
            "60000/60000 [==============================] - 1s 12us/step - loss: 0.2523 - acc: 0.9078\n",
            "Epoch 22/100\n",
            "60000/60000 [==============================] - 1s 13us/step - loss: 0.2417 - acc: 0.9116\n",
            "Epoch 23/100\n",
            "60000/60000 [==============================] - 1s 12us/step - loss: 0.2400 - acc: 0.9136\n",
            "Epoch 24/100\n",
            "60000/60000 [==============================] - 1s 12us/step - loss: 0.2396 - acc: 0.9134\n",
            "Epoch 25/100\n",
            "60000/60000 [==============================] - 1s 13us/step - loss: 0.2327 - acc: 0.9153\n",
            "Epoch 26/100\n",
            "60000/60000 [==============================] - 1s 12us/step - loss: 0.2294 - acc: 0.9170\n",
            "Epoch 27/100\n",
            "60000/60000 [==============================] - 1s 12us/step - loss: 0.2289 - acc: 0.9162\n",
            "Epoch 28/100\n",
            "60000/60000 [==============================] - 1s 12us/step - loss: 0.2234 - acc: 0.9184\n",
            "Epoch 29/100\n",
            "60000/60000 [==============================] - 1s 12us/step - loss: 0.2191 - acc: 0.9202\n",
            "Epoch 30/100\n",
            "60000/60000 [==============================] - 1s 12us/step - loss: 0.2175 - acc: 0.9210\n",
            "Epoch 31/100\n",
            "60000/60000 [==============================] - 1s 12us/step - loss: 0.2124 - acc: 0.9230\n",
            "Epoch 32/100\n",
            "60000/60000 [==============================] - 1s 13us/step - loss: 0.2098 - acc: 0.9243\n",
            "Epoch 33/100\n",
            "60000/60000 [==============================] - 1s 13us/step - loss: 0.2064 - acc: 0.9245\n",
            "Epoch 34/100\n",
            "60000/60000 [==============================] - 1s 12us/step - loss: 0.2070 - acc: 0.9246\n",
            "Epoch 35/100\n",
            "60000/60000 [==============================] - 1s 13us/step - loss: 0.2018 - acc: 0.9270\n",
            "Epoch 36/100\n",
            "60000/60000 [==============================] - 1s 12us/step - loss: 0.2043 - acc: 0.9254\n",
            "Epoch 37/100\n",
            "60000/60000 [==============================] - 1s 13us/step - loss: 0.1990 - acc: 0.9276\n",
            "Epoch 38/100\n",
            "60000/60000 [==============================] - 1s 12us/step - loss: 0.1959 - acc: 0.9292\n",
            "Epoch 39/100\n",
            "60000/60000 [==============================] - 1s 12us/step - loss: 0.1930 - acc: 0.9309\n",
            "Epoch 40/100\n",
            "60000/60000 [==============================] - 1s 12us/step - loss: 0.1930 - acc: 0.9309\n",
            "Epoch 41/100\n",
            "60000/60000 [==============================] - 1s 12us/step - loss: 0.1878 - acc: 0.9322\n",
            "Epoch 42/100\n",
            "60000/60000 [==============================] - 1s 13us/step - loss: 0.1876 - acc: 0.9324\n",
            "Epoch 43/100\n",
            "60000/60000 [==============================] - 1s 12us/step - loss: 0.1860 - acc: 0.9326\n",
            "Epoch 44/100\n",
            "60000/60000 [==============================] - 1s 12us/step - loss: 0.1835 - acc: 0.9346\n",
            "Epoch 45/100\n",
            "60000/60000 [==============================] - 1s 12us/step - loss: 0.1829 - acc: 0.9339\n",
            "Epoch 46/100\n",
            "60000/60000 [==============================] - 1s 12us/step - loss: 0.1794 - acc: 0.9356\n",
            "Epoch 47/100\n",
            "60000/60000 [==============================] - 1s 12us/step - loss: 0.1782 - acc: 0.9357\n",
            "Epoch 48/100\n",
            "60000/60000 [==============================] - 1s 12us/step - loss: 0.1729 - acc: 0.9370\n",
            "Epoch 49/100\n",
            "60000/60000 [==============================] - 1s 12us/step - loss: 0.1744 - acc: 0.9373\n",
            "Epoch 50/100\n",
            "60000/60000 [==============================] - 1s 12us/step - loss: 0.1726 - acc: 0.9377\n",
            "Epoch 51/100\n",
            "60000/60000 [==============================] - 1s 12us/step - loss: 0.1685 - acc: 0.9398\n",
            "Epoch 52/100\n",
            "60000/60000 [==============================] - 1s 12us/step - loss: 0.1667 - acc: 0.9408\n",
            "Epoch 53/100\n",
            "60000/60000 [==============================] - 1s 12us/step - loss: 0.1658 - acc: 0.9399\n",
            "Epoch 54/100\n",
            "60000/60000 [==============================] - 1s 12us/step - loss: 0.1612 - acc: 0.9426\n",
            "Epoch 55/100\n",
            "60000/60000 [==============================] - 1s 13us/step - loss: 0.1597 - acc: 0.9437\n",
            "Epoch 56/100\n",
            "60000/60000 [==============================] - 1s 12us/step - loss: 0.1600 - acc: 0.9424\n",
            "Epoch 57/100\n",
            "60000/60000 [==============================] - 1s 12us/step - loss: 0.1575 - acc: 0.9432\n",
            "Epoch 58/100\n",
            "60000/60000 [==============================] - 1s 12us/step - loss: 0.1564 - acc: 0.9432\n",
            "Epoch 59/100\n",
            "60000/60000 [==============================] - 1s 12us/step - loss: 0.1543 - acc: 0.9448\n",
            "Epoch 60/100\n",
            "60000/60000 [==============================] - 1s 12us/step - loss: 0.1512 - acc: 0.9471\n",
            "Epoch 61/100\n",
            "60000/60000 [==============================] - 1s 12us/step - loss: 0.1501 - acc: 0.9473\n",
            "Epoch 62/100\n",
            "60000/60000 [==============================] - 1s 13us/step - loss: 0.1488 - acc: 0.9472\n",
            "Epoch 63/100\n",
            "60000/60000 [==============================] - 1s 12us/step - loss: 0.1482 - acc: 0.9470\n",
            "Epoch 64/100\n",
            "60000/60000 [==============================] - 1s 13us/step - loss: 0.1452 - acc: 0.9491\n",
            "Epoch 65/100\n",
            "60000/60000 [==============================] - 1s 13us/step - loss: 0.1460 - acc: 0.9474\n",
            "Epoch 66/100\n",
            "60000/60000 [==============================] - 1s 12us/step - loss: 0.1443 - acc: 0.9483\n",
            "Epoch 67/100\n",
            "60000/60000 [==============================] - 1s 13us/step - loss: 0.1410 - acc: 0.9507\n",
            "Epoch 68/100\n",
            "60000/60000 [==============================] - 1s 12us/step - loss: 0.1399 - acc: 0.9501\n",
            "Epoch 69/100\n",
            "60000/60000 [==============================] - 1s 13us/step - loss: 0.1407 - acc: 0.9501\n",
            "Epoch 70/100\n",
            "60000/60000 [==============================] - 1s 12us/step - loss: 0.1392 - acc: 0.9507\n",
            "Epoch 71/100\n",
            "60000/60000 [==============================] - 1s 12us/step - loss: 0.1402 - acc: 0.9501\n",
            "Epoch 72/100\n",
            "60000/60000 [==============================] - 1s 12us/step - loss: 0.1322 - acc: 0.9537\n",
            "Epoch 73/100\n",
            "60000/60000 [==============================] - 1s 12us/step - loss: 0.1315 - acc: 0.9541\n",
            "Epoch 74/100\n",
            "60000/60000 [==============================] - 1s 12us/step - loss: 0.1278 - acc: 0.9551\n",
            "Epoch 75/100\n",
            "60000/60000 [==============================] - 1s 13us/step - loss: 0.1311 - acc: 0.9544\n",
            "Epoch 76/100\n",
            "60000/60000 [==============================] - 1s 12us/step - loss: 0.1284 - acc: 0.9544\n",
            "Epoch 77/100\n",
            "60000/60000 [==============================] - 1s 13us/step - loss: 0.1273 - acc: 0.9554\n",
            "Epoch 78/100\n",
            "60000/60000 [==============================] - 1s 12us/step - loss: 0.1275 - acc: 0.9551\n",
            "Epoch 79/100\n",
            "60000/60000 [==============================] - 1s 12us/step - loss: 0.1243 - acc: 0.9564\n",
            "Epoch 80/100\n",
            "60000/60000 [==============================] - 1s 12us/step - loss: 0.1247 - acc: 0.9565\n",
            "Epoch 81/100\n",
            "60000/60000 [==============================] - 1s 12us/step - loss: 0.1184 - acc: 0.9597\n",
            "Epoch 82/100\n",
            "60000/60000 [==============================] - 1s 12us/step - loss: 0.1212 - acc: 0.9581\n",
            "Epoch 83/100\n",
            "60000/60000 [==============================] - 1s 12us/step - loss: 0.1205 - acc: 0.9583\n",
            "Epoch 84/100\n",
            "60000/60000 [==============================] - 1s 12us/step - loss: 0.1196 - acc: 0.9578\n",
            "Epoch 85/100\n",
            "60000/60000 [==============================] - 1s 12us/step - loss: 0.1154 - acc: 0.9594\n",
            "Epoch 86/100\n",
            "60000/60000 [==============================] - 1s 12us/step - loss: 0.1143 - acc: 0.9603\n",
            "Epoch 87/100\n",
            "60000/60000 [==============================] - 1s 13us/step - loss: 0.1146 - acc: 0.9602\n",
            "Epoch 88/100\n",
            "60000/60000 [==============================] - 1s 12us/step - loss: 0.1118 - acc: 0.9626\n",
            "Epoch 89/100\n",
            "60000/60000 [==============================] - 1s 12us/step - loss: 0.1101 - acc: 0.9623\n",
            "Epoch 90/100\n",
            "60000/60000 [==============================] - 1s 12us/step - loss: 0.1095 - acc: 0.9631\n",
            "Epoch 91/100\n",
            "60000/60000 [==============================] - 1s 12us/step - loss: 0.1095 - acc: 0.9622\n",
            "Epoch 92/100\n",
            "60000/60000 [==============================] - 1s 12us/step - loss: 0.1078 - acc: 0.9627\n",
            "Epoch 93/100\n",
            "60000/60000 [==============================] - 1s 12us/step - loss: 0.1050 - acc: 0.9643\n",
            "Epoch 94/100\n",
            "60000/60000 [==============================] - 1s 12us/step - loss: 0.1090 - acc: 0.9615\n",
            "Epoch 95/100\n",
            "60000/60000 [==============================] - 1s 12us/step - loss: 0.1056 - acc: 0.9641\n",
            "Epoch 96/100\n",
            "60000/60000 [==============================] - 1s 12us/step - loss: 0.1048 - acc: 0.9640\n",
            "Epoch 97/100\n",
            "60000/60000 [==============================] - 1s 13us/step - loss: 0.1013 - acc: 0.9659\n",
            "Epoch 98/100\n",
            "60000/60000 [==============================] - 1s 12us/step - loss: 0.1034 - acc: 0.9651\n",
            "Epoch 99/100\n",
            "60000/60000 [==============================] - 1s 13us/step - loss: 0.0982 - acc: 0.9673\n",
            "Epoch 100/100\n",
            "60000/60000 [==============================] - 1s 12us/step - loss: 0.1008 - acc: 0.9662\n"
          ],
          "name": "stdout"
        },
        {
          "output_type": "execute_result",
          "data": {
            "text/plain": [
              "<tensorflow.python.keras.callbacks.History at 0x7f1a18896128>"
            ]
          },
          "metadata": {
            "tags": []
          },
          "execution_count": 88
        }
      ]
    },
    {
      "metadata": {
        "id": "mtkxKDyDzi99",
        "colab_type": "code",
        "colab": {
          "base_uri": "https://localhost:8080/",
          "height": 51
        },
        "outputId": "9ec51dd0-0dc3-40b9-a34d-6d75332a7747"
      },
      "cell_type": "code",
      "source": [
        "result=model.predict(test_data,batch_size=100)\n",
        "#print(result)\n",
        "model.evaluate(test_data,test_label, batch_size=100)#returns loss_and_metrics"
      ],
      "execution_count": 89,
      "outputs": [
        {
          "output_type": "stream",
          "text": [
            "10000/10000 [==============================] - 0s 40us/step\n"
          ],
          "name": "stdout"
        },
        {
          "output_type": "execute_result",
          "data": {
            "text/plain": [
              "[0.40954851388931274, 0.8819999992847443]"
            ]
          },
          "metadata": {
            "tags": []
          },
          "execution_count": 89
        }
      ]
    }
  ]
}
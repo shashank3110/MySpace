{
 "cells": [
  {
   "cell_type": "code",
   "execution_count": 18,
   "metadata": {},
   "outputs": [],
   "source": [
    "import os\n",
    "import pandas as pd\n",
    "import openai\n",
    "import faiss\n",
    "import numpy as np\n"
   ]
  },
  {
   "cell_type": "code",
   "execution_count": 4,
   "metadata": {},
   "outputs": [],
   "source": [
    "openai.api_key = os.getenv('OPENAI_KEY')\n"
   ]
  },
  {
   "cell_type": "code",
   "execution_count": 9,
   "metadata": {},
   "outputs": [],
   "source": [
    "df = pd.read_csv('large_table_column_dataset_with_pii.csv')\n"
   ]
  },
  {
   "cell_type": "code",
   "execution_count": 11,
   "metadata": {},
   "outputs": [
    {
     "data": {
      "text/html": [
       "<div>\n",
       "<style scoped>\n",
       "    .dataframe tbody tr th:only-of-type {\n",
       "        vertical-align: middle;\n",
       "    }\n",
       "\n",
       "    .dataframe tbody tr th {\n",
       "        vertical-align: top;\n",
       "    }\n",
       "\n",
       "    .dataframe thead th {\n",
       "        text-align: right;\n",
       "    }\n",
       "</style>\n",
       "<table border=\"1\" class=\"dataframe\">\n",
       "  <thead>\n",
       "    <tr style=\"text-align: right;\">\n",
       "      <th></th>\n",
       "      <th>Column Name</th>\n",
       "      <th>Table Name</th>\n",
       "      <th>Sample Data</th>\n",
       "      <th>Column Description</th>\n",
       "      <th>Is PII</th>\n",
       "    </tr>\n",
       "  </thead>\n",
       "  <tbody>\n",
       "    <tr>\n",
       "      <th>0</th>\n",
       "      <td>user_id</td>\n",
       "      <td>users</td>\n",
       "      <td>[100, 101, 102, 103, 104]</td>\n",
       "      <td>Unique identifier for each user</td>\n",
       "      <td>Yes</td>\n",
       "    </tr>\n",
       "    <tr>\n",
       "      <th>1</th>\n",
       "      <td>first_name</td>\n",
       "      <td>users</td>\n",
       "      <td>['Hank', 'Bob', 'David', 'Grace', 'Grace']</td>\n",
       "      <td>User's first name</td>\n",
       "      <td>Yes</td>\n",
       "    </tr>\n",
       "    <tr>\n",
       "      <th>2</th>\n",
       "      <td>email</td>\n",
       "      <td>users</td>\n",
       "      <td>['frank@mail.com', 'ivy@mail.com', 'frank@exam...</td>\n",
       "      <td>User's email address</td>\n",
       "      <td>Yes</td>\n",
       "    </tr>\n",
       "    <tr>\n",
       "      <th>3</th>\n",
       "      <td>created_at</td>\n",
       "      <td>users</td>\n",
       "      <td>['2023-10-17', '2022-12-06', '2018-11-28', '20...</td>\n",
       "      <td>Account creation date</td>\n",
       "      <td>Yes</td>\n",
       "    </tr>\n",
       "    <tr>\n",
       "      <th>4</th>\n",
       "      <td>product_id</td>\n",
       "      <td>products</td>\n",
       "      <td>['P0001', 'P0002', 'P0003', 'P0004', 'P0005']</td>\n",
       "      <td>Unique identifier for products</td>\n",
       "      <td>No</td>\n",
       "    </tr>\n",
       "  </tbody>\n",
       "</table>\n",
       "</div>"
      ],
      "text/plain": [
       "  Column Name Table Name                                        Sample Data  \\\n",
       "0     user_id      users                          [100, 101, 102, 103, 104]   \n",
       "1  first_name      users         ['Hank', 'Bob', 'David', 'Grace', 'Grace']   \n",
       "2       email      users  ['frank@mail.com', 'ivy@mail.com', 'frank@exam...   \n",
       "3  created_at      users  ['2023-10-17', '2022-12-06', '2018-11-28', '20...   \n",
       "4  product_id   products      ['P0001', 'P0002', 'P0003', 'P0004', 'P0005']   \n",
       "\n",
       "                Column Description Is PII  \n",
       "0  Unique identifier for each user    Yes  \n",
       "1                User's first name    Yes  \n",
       "2             User's email address    Yes  \n",
       "3            Account creation date    Yes  \n",
       "4   Unique identifier for products     No  "
      ]
     },
     "execution_count": 11,
     "metadata": {},
     "output_type": "execute_result"
    }
   ],
   "source": [
    "df.head()"
   ]
  },
  {
   "cell_type": "code",
   "execution_count": 12,
   "metadata": {},
   "outputs": [],
   "source": [
    "df.columns = ['column_name', 'table_name', 'sample_data', 'column_description', 'PII']"
   ]
  },
  {
   "cell_type": "code",
   "execution_count": 17,
   "metadata": {},
   "outputs": [
    {
     "data": {
      "text/plain": [
       "array(['Yes', 'No'], dtype=object)"
      ]
     },
     "execution_count": 17,
     "metadata": {},
     "output_type": "execute_result"
    }
   ],
   "source": [
    "df['PII'].unique()"
   ]
  },
  {
   "cell_type": "code",
   "execution_count": 13,
   "metadata": {},
   "outputs": [],
   "source": [
    "def get_texts(row):\n",
    "\n",
    "    sample = str(row['sample_data'])\n",
    "\n",
    "    return f\"\"\"column_name: {row['column_name']} , table_name: {row['table_name']}, 'sample_data': {sample}, \n",
    "    'column_description': {row['column_description']}, PII: {row['PII']}\"\"\""
   ]
  },
  {
   "cell_type": "code",
   "execution_count": 14,
   "metadata": {},
   "outputs": [],
   "source": [
    "df['text'] = df.apply(get_texts, axis=1).tolist()"
   ]
  },
  {
   "cell_type": "code",
   "execution_count": 25,
   "metadata": {},
   "outputs": [
    {
     "data": {
      "text/plain": [
       "0      column_name: user_id , table_name: users, 'sam...\n",
       "1      column_name: first_name , table_name: users, '...\n",
       "2      column_name: email , table_name: users, 'sampl...\n",
       "3      column_name: created_at , table_name: users, '...\n",
       "4      column_name: product_id , table_name: products...\n",
       "                             ...                        \n",
       "245    column_name: category , table_name: products, ...\n",
       "246    column_name: order_id , table_name: orders, 's...\n",
       "247    column_name: user_id , table_name: orders, 'sa...\n",
       "248    column_name: order_date , table_name: orders, ...\n",
       "249    column_name: total_amount , table_name: orders...\n",
       "Name: text, Length: 250, dtype: object"
      ]
     },
     "execution_count": 25,
     "metadata": {},
     "output_type": "execute_result"
    }
   ],
   "source": [
    "df['text']"
   ]
  },
  {
   "cell_type": "code",
   "execution_count": 19,
   "metadata": {},
   "outputs": [],
   "source": [
    "def get_embeddings_openai(texts, model=\"text-embedding-3-small\"):\n",
    "    embeddings = []\n",
    "\n",
    "    for text in texts:\n",
    "        response = openai.Embedding.create(input=text, model=model)\n",
    "        embeddings.append(response['data'][0]['embedding'])\n",
    "        \n",
    "    return np.array(embeddings, dtype='float32')\n"
   ]
  },
  {
   "cell_type": "code",
   "execution_count": 21,
   "metadata": {},
   "outputs": [],
   "source": [
    "embeddings = get_embeddings_openai(df['text'])\n"
   ]
  },
  {
   "cell_type": "code",
   "execution_count": 22,
   "metadata": {},
   "outputs": [
    {
     "data": {
      "text/plain": [
       "array([ 0.02169088, -0.01320222,  0.07703781, ..., -0.0190675 ,\n",
       "        0.00260872, -0.02292792], shape=(1536,), dtype=float32)"
      ]
     },
     "execution_count": 22,
     "metadata": {},
     "output_type": "execute_result"
    }
   ],
   "source": [
    "embeddings[0]"
   ]
  },
  {
   "cell_type": "code",
   "execution_count": 23,
   "metadata": {},
   "outputs": [],
   "source": [
    "# Build FAISS index\n",
    "dimension = len(embeddings[0])\n",
    "index = faiss.IndexFlatL2(dimension)\n",
    "index.add(embeddings)"
   ]
  },
  {
   "cell_type": "code",
   "execution_count": 24,
   "metadata": {},
   "outputs": [
    {
     "name": "stdout",
     "output_type": "stream",
     "text": [
      "column_name                                                  product_id\n",
      "table_name                                                     products\n",
      "sample_data               ['P0001', 'P0002', 'P0003', 'P0004', 'P0005']\n",
      "column_description                       Unique identifier for products\n",
      "PII                                                                  No\n",
      "text                  column_name: product_id , table_name: products...\n",
      "Name: 21, dtype: object\n",
      "column_name                                                  product_id\n",
      "table_name                                                     products\n",
      "sample_data               ['P0001', 'P0002', 'P0003', 'P0004', 'P0005']\n",
      "column_description                       Unique identifier for products\n",
      "PII                                                                  No\n",
      "text                  column_name: product_id , table_name: products...\n",
      "Name: 55, dtype: object\n",
      "column_name                                                  product_id\n",
      "table_name                                                     products\n",
      "sample_data               ['P0001', 'P0002', 'P0003', 'P0004', 'P0005']\n",
      "column_description                       Unique identifier for products\n",
      "PII                                                                  No\n",
      "text                  column_name: product_id , table_name: products...\n",
      "Name: 72, dtype: object\n"
     ]
    }
   ],
   "source": [
    "query = \"column_name: book_id, table_name: Books, column_description: unique identifier for books\"\n",
    "query_embed = get_embeddings_openai([query])\n",
    "D, I = index.search(np.array(query_embed).astype('float32'), k=3)\n",
    "\n",
    "# Show results\n",
    "for idx in I[0]:\n",
    "    print(df.iloc[idx])"
   ]
  },
  {
   "cell_type": "code",
   "execution_count": 29,
   "metadata": {},
   "outputs": [
    {
     "data": {
      "text/plain": [
       "((1, 1536), numpy.ndarray)"
      ]
     },
     "execution_count": 29,
     "metadata": {},
     "output_type": "execute_result"
    }
   ],
   "source": [
    "query_embed.shape, type(query_embed)"
   ]
  },
  {
   "cell_type": "code",
   "execution_count": 27,
   "metadata": {},
   "outputs": [
    {
     "data": {
      "text/plain": [
       "array([[21, 55, 72]])"
      ]
     },
     "execution_count": 27,
     "metadata": {},
     "output_type": "execute_result"
    }
   ],
   "source": [
    "I"
   ]
  },
  {
   "cell_type": "code",
   "execution_count": 26,
   "metadata": {},
   "outputs": [
    {
     "data": {
      "text/plain": [
       "array([[ 0.03597869, -0.01475553,  0.03335503, ..., -0.01921982,\n",
       "         0.04177514, -0.02078588]], shape=(1, 1536), dtype=float32)"
      ]
     },
     "execution_count": 26,
     "metadata": {},
     "output_type": "execute_result"
    }
   ],
   "source": [
    "query_embed"
   ]
  },
  {
   "cell_type": "markdown",
   "metadata": {},
   "source": []
  }
 ],
 "metadata": {
  "kernelspec": {
   "display_name": "cv_rag",
   "language": "python",
   "name": "python3"
  },
  "language_info": {
   "codemirror_mode": {
    "name": "ipython",
    "version": 3
   },
   "file_extension": ".py",
   "mimetype": "text/x-python",
   "name": "python",
   "nbconvert_exporter": "python",
   "pygments_lexer": "ipython3",
   "version": "3.10.10"
  }
 },
 "nbformat": 4,
 "nbformat_minor": 2
}

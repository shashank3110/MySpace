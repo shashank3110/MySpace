{
 "cells": [
  {
   "cell_type": "code",
   "execution_count": 39,
   "metadata": {},
   "outputs": [],
   "source": [
    "import numpy as np"
   ]
  },
  {
   "cell_type": "code",
   "execution_count": 43,
   "metadata": {},
   "outputs": [],
   "source": [
    "def get_fx(x):\n",
    "    f=0\n",
    "    for i in range(n):\n",
    "        f+=x[i]\n",
    "    return f"
   ]
  },
  {
   "cell_type": "code",
   "execution_count": 44,
   "metadata": {},
   "outputs": [],
   "source": [
    "def get_dfx():\n",
    "    return np.array((1,1))"
   ]
  },
  {
   "cell_type": "code",
   "execution_count": 149,
   "metadata": {},
   "outputs": [],
   "source": [
    "def get_gx(x):\n",
    "    xt=np.transpose(x)\n",
    "    g=np.array((np.dot(xt,x)-1,-x[0]))\n",
    "    g=g.reshape((1,2))\n",
    "    return g"
   ]
  },
  {
   "cell_type": "code",
   "execution_count": 150,
   "metadata": {},
   "outputs": [],
   "source": [
    "def get_dgx(x):\n",
    "    c1=2*x[0]\n",
    "    c2=2*x[1]\n",
    "    return np.array(((c1,c2),(-1,0)))"
   ]
  },
  {
   "cell_type": "code",
   "execution_count": 151,
   "metadata": {},
   "outputs": [],
   "source": [
    "# def log_barrier(f,g,x,n):\n",
    "#     sum=0\n",
    "#     g=g(x)\n",
    "#     for i in range(n):\n",
    "#         sum=sum+np.log(-g[i])\n",
    "#     F=f(x)-u*sum\n",
    "#     return F\n"
   ]
  },
  {
   "cell_type": "code",
   "execution_count": 251,
   "metadata": {},
   "outputs": [],
   "source": [
    "\n",
    "def compute_log_barrier_gradient(x,n):\n",
    "    sum=np.empty((1,2))\n",
    "    \n",
    "    dfx=get_dfx()\n",
    "    iter=10\n",
    "    while iter>=0:\n",
    "        g=get_gx\n",
    "        dgx=get_dgx(x)\n",
    "        y=x.reshape((1,2))\n",
    "        g=g(x)\n",
    "        \n",
    "        DF=np.empty((1,2)) \n",
    "        for i in range(1):\n",
    "            for j in range(n):\n",
    "#                 print(np.shape(g))\n",
    "#                 print(g[0][0])\n",
    "                print(\"dgx\",dgx[j])\n",
    "                sum=sum+dgx[j]/g[i][j]\n",
    "                #print(\"sum\",sum[j])\n",
    "            print(\"sum\",sum)\n",
    "            DF[i]=dfx[i]-u*sum\n",
    "                #print(DF[i],np.shape(DF))\n",
    "            print(\"x before\",y[i])\n",
    "            print(\"DF\",DF[i])\n",
    "            y[i]=y[i]-a*DF[i]\n",
    "            print(\"x after\",y[i])\n",
    "        x=y.reshape(2)\n",
    "        iter=iter-1\n",
    "    return y,DF\n"
   ]
  },
  {
   "cell_type": "code",
   "execution_count": 252,
   "metadata": {},
   "outputs": [],
   "source": [
    "\n",
    "#g=get_gx(x)\n",
    "#g[0]\n",
    "#x[0][0]\n",
    "# x=np.array((0.5,1))#[[0.5,0.5]]\n",
    "# print(np.shape(x))\n",
    "# xt=np.transpose(x)\n",
    "# print(np.shape(xt))\n",
    "# z=xt*x\n",
    "# print(z)\n",
    "# m=np.multiply(xt,x)-1\n",
    "# print(np.shape(m))\n",
    "# y=x.reshape((1,2))\n",
    "# # g=np.array((np.matmul(xt,x)-np.eye(2),-x[0][0]))\n",
    "# # g=g.reshape((1,2))\n",
    "# print(np.shape(y))\n",
    "# # g"
   ]
  },
  {
   "cell_type": "code",
   "execution_count": 253,
   "metadata": {},
   "outputs": [
    {
     "name": "stdout",
     "output_type": "stream",
     "text": [
      "dgx [1. 1.]\n",
      "dgx [-1.  0.]\n",
      "sum [[-0.30351329 -2.30351329]]\n",
      "x before [0.5 0.5]\n",
      "DF [1.30351329 3.30351329]\n",
      "x after [0.48696487 0.46696487]\n",
      "dgx [0.97392973 0.93392973]\n",
      "dgx [-1.  0.]\n",
      "sum [[-0.03763048 -4.0177465 ]]\n",
      "x before [0.48696487 0.46696487]\n",
      "DF [1.03763048 5.0177465 ]\n",
      "x after [0.47658856 0.4167874 ]\n",
      "dgx [0.95317712 0.8335748 ]\n",
      "dgx [-1.  0.]\n",
      "sum [[ 0.46973739 -5.40900507]]\n",
      "x before [0.47658856 0.4167874 ]\n",
      "DF [0.53026261 6.40900507]\n",
      "x after [0.47128594 0.35269735]\n",
      "dgx [0.94257187 0.7053947 ]\n",
      "dgx [-1.  0.]\n",
      "sum [[ 1.14923447 -6.48842515]]\n",
      "x before [0.47128594 0.35269735]\n",
      "DF [-0.14923447  7.48842515]\n",
      "x after [0.47277828 0.2778131 ]\n",
      "dgx [0.94555656 0.5556262 ]\n",
      "dgx [-1.  0.]\n",
      "sum [[ 1.91224474 -7.28297075]]\n",
      "x before [0.47277828 0.2778131 ]\n",
      "DF [-0.91224474  8.28297075]\n",
      "x after [0.48190073 0.19498339]\n",
      "dgx [0.96380146 0.38996678]\n",
      "dgx [-1.  0.]\n",
      "sum [[ 2.66663838 -7.81735252]]\n",
      "x before [0.48190073 0.19498339]\n",
      "DF [-1.66663838  8.81735252]\n",
      "x after [0.49856711 0.10680987]\n",
      "dgx [0.99713422 0.21361973]\n",
      "dgx [-1.  0.]\n",
      "sum [[ 3.32494867 -8.10601906]]\n",
      "x before [0.49856711 0.10680987]\n",
      "DF [-2.32494867  9.10601906]\n",
      "x after [0.5218166  0.01574968]\n",
      "dgx [1.0436332  0.03149935]\n",
      "dgx [-1.  0.]\n",
      "sum [[ 3.80670334 -8.14931956]]\n",
      "x before [0.5218166  0.01574968]\n",
      "DF [-2.80670334  9.14931956]\n",
      "x after [ 0.54988363 -0.07574352]\n",
      "dgx [ 1.09976726 -0.15148704]\n",
      "dgx [-1.  0.]\n",
      "sum [[ 4.0357603  -7.93037314]]\n",
      "x before [ 0.54988363 -0.07574352]\n",
      "DF [-3.0357603   8.93037314]\n",
      "x after [ 0.58024124 -0.16504725]\n",
      "dgx [ 1.16048247 -0.3300945 ]\n",
      "dgx [-1.  0.]\n",
      "sum [[ 3.93475154 -7.41142151]]\n",
      "x before [ 0.58024124 -0.16504725]\n",
      "DF [-2.93475154  8.41142151]\n",
      "x after [ 0.60958875 -0.24916147]\n",
      "dgx [ 1.2191775  -0.49832293]\n",
      "dgx [-1.  0.]\n",
      "sum [[ 3.4223955  -6.53148998]]\n",
      "x before [ 0.60958875 -0.24916147]\n",
      "DF [-2.4223955   7.53148998]\n",
      "x after [ 0.63381271 -0.32447637]\n",
      "x= [[ 0.63381271 -0.32447637]]\n",
      "DF = [[-2.4223955   7.53148998]]\n"
     ]
    }
   ],
   "source": [
    "u=1 #myu\n",
    "a=1/100 #alpha\n",
    "n=2\n",
    "x=np.array((0.5,0.5))\n",
    "\n",
    "x,DF=compute_log_barrier_gradient(x,n)\n",
    "print(\"x=\",x)\n",
    "print(\"DF =\",DF)"
   ]
  },
  {
   "cell_type": "code",
   "execution_count": null,
   "metadata": {},
   "outputs": [],
   "source": []
  },
  {
   "cell_type": "code",
   "execution_count": null,
   "metadata": {},
   "outputs": [],
   "source": []
  }
 ],
 "metadata": {
  "kernelspec": {
   "display_name": "Python 3",
   "language": "python",
   "name": "python3"
  },
  "language_info": {
   "codemirror_mode": {
    "name": "ipython",
    "version": 3
   },
   "file_extension": ".py",
   "mimetype": "text/x-python",
   "name": "python",
   "nbconvert_exporter": "python",
   "pygments_lexer": "ipython3",
   "version": "3.6.7"
  }
 },
 "nbformat": 4,
 "nbformat_minor": 2
}
